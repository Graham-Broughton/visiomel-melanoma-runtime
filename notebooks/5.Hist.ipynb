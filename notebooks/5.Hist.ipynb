{
 "cells": [
  {
   "cell_type": "code",
   "execution_count": 1,
   "metadata": {},
   "outputs": [],
   "source": [
    "# %matplotlib notebook\n",
    "import pandas as pd\n",
    "import numpy as np\n",
    "import multiprocessing\n",
    "import argparse\n",
    "from datetime import timedelta\n",
    "import pyvips\n",
    "from PIL import Image\n",
    "import time\n",
    "import random\n",
    "import gc\n",
    "import logging\n",
    "import os\n",
    "from pathlib import Path\n",
    "import sys\n",
    "import matplotlib.pyplot as plt\n",
    "\n",
    "sys.path.append('..')\n",
    "from src.wsi import slides, filters, tiles, util\n",
    "from src import dataset\n",
    "\n",
    "BASE_PATH = Path(os.path.dirname(os.getcwd()))\n",
    "DATA_PATH = BASE_PATH / 'data' / 'originals'\n",
    "PROCESSED_DATA = BASE_PATH / 'data' / 'processed'"
   ]
  },
  {
   "cell_type": "code",
   "execution_count": 2,
   "metadata": {},
   "outputs": [],
   "source": [
    "low = pd.read_csv(BASE_PATH / 'data' / 'lowres.csv')\n",
    "hi = pd.read_csv(BASE_PATH / 'data' / 'hires.csv')\n",
    "# row = train.iloc[2]\n",
    "# image = pyvips.Image.new_from_file(f'../data/originals/{row[\"filename\"]}', access='sequential')\n",
    "# image.filename, image.width, image.height"
   ]
  },
  {
   "cell_type": "code",
   "execution_count": 3,
   "metadata": {},
   "outputs": [],
   "source": [
    "names = !ls ../workspace/tile_data/48\n",
    "names = [x.split('-')[0] for x in names]"
   ]
  },
  {
   "cell_type": "code",
   "execution_count": 13,
   "metadata": {},
   "outputs": [],
   "source": [
    "from glob import glob\n",
    "set1 = set(hi['filename'].str.split('.').str[0])\n",
    "set2 = set(names)\n",
    "dels = set2.intersection(set1)\n",
    "len(dels)\n",
    "for file in dels:\n",
    "    f = f'../workspace/tile_data/48/{file}-tile_data.csv'\n",
    "    os.remove(f)\n",
    "    f = f'../workspace/tile_data/64/{file}-tile_data.csv'\n",
    "    os.remove(f)\n",
    "    f = f'../workspace/tiles/data/processed/*/*/{file}*'\n",
    "    files = glob(f)\n",
    "    for fil in files:\n",
    "        os.remove(fil)"
   ]
  },
  {
   "cell_type": "code",
   "execution_count": 3,
   "metadata": {},
   "outputs": [
    {
     "data": {
      "text/plain": [
       "(3, 'none', 'uchar', 'srgb')"
      ]
     },
     "execution_count": 3,
     "metadata": {},
     "output_type": "execute_result"
    }
   ],
   "source": [
    "image.get('bands'), image.get('coding'), image.get('format'), image.get('interpretation')"
   ]
  },
  {
   "cell_type": "code",
   "execution_count": 8,
   "metadata": {},
   "outputs": [],
   "source": [
    "image.tiffsave('test.tif', compression=\"deflate\",\n",
    "                 tile=True, tile_width=256, tile_height=256,\n",
    "                 pyramid=True)"
   ]
  },
  {
   "cell_type": "code",
   "execution_count": 56,
   "metadata": {},
   "outputs": [],
   "source": [
    "def rimages(index, train, page):\n",
    "    filename, res = train.loc[index, ['filename', 'resolution']]\n",
    "    resizing_factor = res / 0.25\n",
    "    image = pyvips.Image.new_from_file(f'../data/originals/{filename}', page=page)\n",
    "    width, height = image.width, image.height\n",
    "    image = image.affine((resizing_factor, 0, 0, resizing_factor))\n",
    "    return width, height, image, image.width, image.height"
   ]
  },
  {
   "cell_type": "code",
   "execution_count": 3,
   "metadata": {},
   "outputs": [
    {
     "data": {
      "text/plain": [
       "<matplotlib.image.AxesImage at 0x7effc838b8d0>"
      ]
     },
     "execution_count": 3,
     "metadata": {},
     "output_type": "execute_result"
    }
   ],
   "source": [
    "images = pyvips.Image.new_from_file('../data/originals/qmsqv731.tif', page=8)\n",
    "images.height, images.width\n",
    "img = images.write_to_file('test.jpg')\n",
    "# img = np.ndarray(buffer=images.write_to_memory(), dtype=np.uint8, shape=[images.height, images.width, images.bands])\n",
    "plt.imshow(plt.imread('test.jpg'))\n"
   ]
  },
  {
   "cell_type": "code",
   "execution_count": 10,
   "metadata": {},
   "outputs": [],
   "source": [
    "plt.imshow(images.numpy() / 255.)\n",
    "plt.show()"
   ]
  },
  {
   "cell_type": "code",
   "execution_count": 3,
   "metadata": {},
   "outputs": [
    {
     "data": {
      "text/plain": [
       "<matplotlib.image.AxesImage at 0x7f229ab97ed0>"
      ]
     },
     "execution_count": 3,
     "metadata": {},
     "output_type": "execute_result"
    }
   ],
   "source": [
    "img = Image.open('test.jpg')\n",
    "plt.imshow(img)"
   ]
  },
  {
   "cell_type": "code",
   "execution_count": 8,
   "metadata": {},
   "outputs": [],
   "source": [
    "train.iloc[:, :4].to_csv('../data/train.csv', index=False)"
   ]
  },
  {
   "cell_type": "code",
   "execution_count": 9,
   "metadata": {},
   "outputs": [
    {
     "name": "stdout",
     "output_type": "stream",
     "text": [
      "training dataset: 1342 samples\n",
      "training dataset: 126581 tiles\n"
     ]
    },
    {
     "data": {
      "text/html": [
       "<div>\n",
       "<style scoped>\n",
       "    .dataframe tbody tr th:only-of-type {\n",
       "        vertical-align: middle;\n",
       "    }\n",
       "\n",
       "    .dataframe tbody tr th {\n",
       "        vertical-align: top;\n",
       "    }\n",
       "\n",
       "    .dataframe thead th {\n",
       "        text-align: right;\n",
       "    }\n",
       "</style>\n",
       "<table border=\"1\" class=\"dataframe\">\n",
       "  <thead>\n",
       "    <tr style=\"text-align: right;\">\n",
       "      <th></th>\n",
       "      <th>tissue_id</th>\n",
       "      <th>filename</th>\n",
       "      <th>relapse</th>\n",
       "      <th>split</th>\n",
       "      <th>n_tiles</th>\n",
       "      <th>path</th>\n",
       "      <th>tile_id</th>\n",
       "      <th>is_valid</th>\n",
       "      <th>age</th>\n",
       "      <th>sex</th>\n",
       "      <th>melanoma_history</th>\n",
       "    </tr>\n",
       "  </thead>\n",
       "  <tbody>\n",
       "    <tr>\n",
       "      <th>0</th>\n",
       "      <td>00shcdng</td>\n",
       "      <td>00shcdng.tif</td>\n",
       "      <td>0</td>\n",
       "      <td>3</td>\n",
       "      <td>96</td>\n",
       "      <td>../workspace/tiles/data/processed/48/3/00shcdng_0.jpeg</td>\n",
       "      <td>0</td>\n",
       "      <td>0</td>\n",
       "      <td>0.795918</td>\n",
       "      <td>0</td>\n",
       "      <td>-1</td>\n",
       "    </tr>\n",
       "    <tr>\n",
       "      <th>1</th>\n",
       "      <td>00shcdng</td>\n",
       "      <td>00shcdng.tif</td>\n",
       "      <td>0</td>\n",
       "      <td>3</td>\n",
       "      <td>96</td>\n",
       "      <td>../workspace/tiles/data/processed/48/3/00shcdng_1.jpeg</td>\n",
       "      <td>1</td>\n",
       "      <td>0</td>\n",
       "      <td>0.795918</td>\n",
       "      <td>0</td>\n",
       "      <td>-1</td>\n",
       "    </tr>\n",
       "    <tr>\n",
       "      <th>2</th>\n",
       "      <td>00shcdng</td>\n",
       "      <td>00shcdng.tif</td>\n",
       "      <td>0</td>\n",
       "      <td>3</td>\n",
       "      <td>96</td>\n",
       "      <td>../workspace/tiles/data/processed/48/3/00shcdng_2.jpeg</td>\n",
       "      <td>2</td>\n",
       "      <td>0</td>\n",
       "      <td>0.795918</td>\n",
       "      <td>0</td>\n",
       "      <td>-1</td>\n",
       "    </tr>\n",
       "    <tr>\n",
       "      <th>3</th>\n",
       "      <td>00shcdng</td>\n",
       "      <td>00shcdng.tif</td>\n",
       "      <td>0</td>\n",
       "      <td>3</td>\n",
       "      <td>96</td>\n",
       "      <td>../workspace/tiles/data/processed/48/3/00shcdng_3.jpeg</td>\n",
       "      <td>3</td>\n",
       "      <td>0</td>\n",
       "      <td>0.795918</td>\n",
       "      <td>0</td>\n",
       "      <td>-1</td>\n",
       "    </tr>\n",
       "    <tr>\n",
       "      <th>4</th>\n",
       "      <td>00shcdng</td>\n",
       "      <td>00shcdng.tif</td>\n",
       "      <td>0</td>\n",
       "      <td>3</td>\n",
       "      <td>96</td>\n",
       "      <td>../workspace/tiles/data/processed/48/3/00shcdng_4.jpeg</td>\n",
       "      <td>4</td>\n",
       "      <td>0</td>\n",
       "      <td>0.795918</td>\n",
       "      <td>0</td>\n",
       "      <td>-1</td>\n",
       "    </tr>\n",
       "    <tr>\n",
       "      <th>...</th>\n",
       "      <td>...</td>\n",
       "      <td>...</td>\n",
       "      <td>...</td>\n",
       "      <td>...</td>\n",
       "      <td>...</td>\n",
       "      <td>...</td>\n",
       "      <td>...</td>\n",
       "      <td>...</td>\n",
       "      <td>...</td>\n",
       "      <td>...</td>\n",
       "      <td>...</td>\n",
       "    </tr>\n",
       "    <tr>\n",
       "      <th>126576</th>\n",
       "      <td>zyo5fbtd</td>\n",
       "      <td>zyo5fbtd.tif</td>\n",
       "      <td>1</td>\n",
       "      <td>2</td>\n",
       "      <td>35</td>\n",
       "      <td>../workspace/tiles/data/processed/48/3/zyo5fbtd_30.jpeg</td>\n",
       "      <td>30</td>\n",
       "      <td>0</td>\n",
       "      <td>0.653061</td>\n",
       "      <td>0</td>\n",
       "      <td>-1</td>\n",
       "    </tr>\n",
       "    <tr>\n",
       "      <th>126577</th>\n",
       "      <td>zyo5fbtd</td>\n",
       "      <td>zyo5fbtd.tif</td>\n",
       "      <td>1</td>\n",
       "      <td>2</td>\n",
       "      <td>35</td>\n",
       "      <td>../workspace/tiles/data/processed/48/3/zyo5fbtd_31.jpeg</td>\n",
       "      <td>31</td>\n",
       "      <td>0</td>\n",
       "      <td>0.653061</td>\n",
       "      <td>0</td>\n",
       "      <td>-1</td>\n",
       "    </tr>\n",
       "    <tr>\n",
       "      <th>126578</th>\n",
       "      <td>zyo5fbtd</td>\n",
       "      <td>zyo5fbtd.tif</td>\n",
       "      <td>1</td>\n",
       "      <td>2</td>\n",
       "      <td>35</td>\n",
       "      <td>../workspace/tiles/data/processed/48/3/zyo5fbtd_32.jpeg</td>\n",
       "      <td>32</td>\n",
       "      <td>0</td>\n",
       "      <td>0.653061</td>\n",
       "      <td>0</td>\n",
       "      <td>-1</td>\n",
       "    </tr>\n",
       "    <tr>\n",
       "      <th>126579</th>\n",
       "      <td>zyo5fbtd</td>\n",
       "      <td>zyo5fbtd.tif</td>\n",
       "      <td>1</td>\n",
       "      <td>2</td>\n",
       "      <td>35</td>\n",
       "      <td>../workspace/tiles/data/processed/48/3/zyo5fbtd_33.jpeg</td>\n",
       "      <td>33</td>\n",
       "      <td>0</td>\n",
       "      <td>0.653061</td>\n",
       "      <td>0</td>\n",
       "      <td>-1</td>\n",
       "    </tr>\n",
       "    <tr>\n",
       "      <th>126580</th>\n",
       "      <td>zyo5fbtd</td>\n",
       "      <td>zyo5fbtd.tif</td>\n",
       "      <td>1</td>\n",
       "      <td>2</td>\n",
       "      <td>35</td>\n",
       "      <td>../workspace/tiles/data/processed/48/3/zyo5fbtd_34.jpeg</td>\n",
       "      <td>34</td>\n",
       "      <td>0</td>\n",
       "      <td>0.653061</td>\n",
       "      <td>0</td>\n",
       "      <td>-1</td>\n",
       "    </tr>\n",
       "  </tbody>\n",
       "</table>\n",
       "<p>126581 rows × 11 columns</p>\n",
       "</div>"
      ],
      "text/plain": [
       "       tissue_id      filename  relapse  split  n_tiles   \n",
       "0       00shcdng  00shcdng.tif        0      3       96  \\\n",
       "1       00shcdng  00shcdng.tif        0      3       96   \n",
       "2       00shcdng  00shcdng.tif        0      3       96   \n",
       "3       00shcdng  00shcdng.tif        0      3       96   \n",
       "4       00shcdng  00shcdng.tif        0      3       96   \n",
       "...          ...           ...      ...    ...      ...   \n",
       "126576  zyo5fbtd  zyo5fbtd.tif        1      2       35   \n",
       "126577  zyo5fbtd  zyo5fbtd.tif        1      2       35   \n",
       "126578  zyo5fbtd  zyo5fbtd.tif        1      2       35   \n",
       "126579  zyo5fbtd  zyo5fbtd.tif        1      2       35   \n",
       "126580  zyo5fbtd  zyo5fbtd.tif        1      2       35   \n",
       "\n",
       "                                                           path  tile_id   \n",
       "0        ../workspace/tiles/data/processed/48/3/00shcdng_0.jpeg        0  \\\n",
       "1        ../workspace/tiles/data/processed/48/3/00shcdng_1.jpeg        1   \n",
       "2        ../workspace/tiles/data/processed/48/3/00shcdng_2.jpeg        2   \n",
       "3        ../workspace/tiles/data/processed/48/3/00shcdng_3.jpeg        3   \n",
       "4        ../workspace/tiles/data/processed/48/3/00shcdng_4.jpeg        4   \n",
       "...                                                         ...      ...   \n",
       "126576  ../workspace/tiles/data/processed/48/3/zyo5fbtd_30.jpeg       30   \n",
       "126577  ../workspace/tiles/data/processed/48/3/zyo5fbtd_31.jpeg       31   \n",
       "126578  ../workspace/tiles/data/processed/48/3/zyo5fbtd_32.jpeg       32   \n",
       "126579  ../workspace/tiles/data/processed/48/3/zyo5fbtd_33.jpeg       33   \n",
       "126580  ../workspace/tiles/data/processed/48/3/zyo5fbtd_34.jpeg       34   \n",
       "\n",
       "        is_valid       age  sex  melanoma_history  \n",
       "0              0  0.795918    0                -1  \n",
       "1              0  0.795918    0                -1  \n",
       "2              0  0.795918    0                -1  \n",
       "3              0  0.795918    0                -1  \n",
       "4              0  0.795918    0                -1  \n",
       "...          ...       ...  ...               ...  \n",
       "126576         0  0.653061    0                -1  \n",
       "126577         0  0.653061    0                -1  \n",
       "126578         0  0.653061    0                -1  \n",
       "126579         0  0.653061    0                -1  \n",
       "126580         0  0.653061    0                -1  \n",
       "\n",
       "[126581 rows x 11 columns]"
      ]
     },
     "execution_count": 9,
     "metadata": {},
     "output_type": "execute_result"
    }
   ],
   "source": [
    "dftrain = dataset.get_dftrain('../workspace/tiles/data/processed/48/3/', 5, 42, 0)\n",
    "dftrain"
   ]
  },
  {
   "cell_type": "code",
   "execution_count": 10,
   "metadata": {},
   "outputs": [],
   "source": [
    "dls = dataset.get_dataloader(dftrain)\n",
    "#tr, val = dblock.splitter(dblock.get_items(dftrain))\n",
    "#dataset.show_tile_batch(dls)"
   ]
  },
  {
   "cell_type": "code",
   "execution_count": 46,
   "metadata": {},
   "outputs": [],
   "source": [
    "tr = dls.train"
   ]
  },
  {
   "cell_type": "code",
   "execution_count": 4,
   "metadata": {},
   "outputs": [],
   "source": [
    "%matplotlib inline"
   ]
  },
  {
   "cell_type": "code",
   "execution_count": 12,
   "metadata": {},
   "outputs": [
    {
     "data": {
      "text/plain": [
       "torch.Size([1, 48, 3, 512, 512])"
      ]
     },
     "execution_count": 12,
     "metadata": {},
     "output_type": "execute_result"
    }
   ],
   "source": [
    "x, y = dls.valid.one_batch()\n",
    "x.shape"
   ]
  }
 ],
 "metadata": {
  "kernelspec": {
   "display_name": "kaggle",
   "language": "python",
   "name": "python3"
  },
  "language_info": {
   "codemirror_mode": {
    "name": "ipython",
    "version": 3
   },
   "file_extension": ".py",
   "mimetype": "text/x-python",
   "name": "python",
   "nbconvert_exporter": "python",
   "pygments_lexer": "ipython3",
   "version": "3.11.3"
  },
  "orig_nbformat": 4,
  "vscode": {
   "interpreter": {
    "hash": "f6b5f76bd89ace94f35929ed283191c94ec6b66da415267cdd6104fd6f1e34c2"
   }
  }
 },
 "nbformat": 4,
 "nbformat_minor": 2
}
