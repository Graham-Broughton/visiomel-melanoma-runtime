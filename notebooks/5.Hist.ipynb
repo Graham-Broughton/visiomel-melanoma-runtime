{
 "cells": [
  {
   "cell_type": "code",
   "execution_count": 2,
   "metadata": {},
   "outputs": [],
   "source": [
    "import pandas as pd\n",
    "import numpy as np\n",
    "import multiprocessing\n",
    "import argparse\n",
    "from datetime import timedelta\n",
    "import pyvips\n",
    "import PIL\n",
    "import time\n",
    "import random\n",
    "import gc\n",
    "import logging\n",
    "import os\n",
    "from pathlib import Path\n",
    "import sys\n",
    "\n",
    "sys.path.append('..')\n",
    "from src.wsi import slides, filters, tiles, util\n",
    "\n",
    "BASE_PATH = Path(os.path.dirname(os.getcwd()))\n",
    "DATA_PATH = BASE_PATH / 'data' / 'originals'\n",
    "PROCESSED_DATA = BASE_PATH / 'data' / 'processed'"
   ]
  },
  {
   "cell_type": "code",
   "execution_count": 3,
   "metadata": {},
   "outputs": [],
   "source": [
    "train = pd.read_csv(BASE_PATH / 'data' / 'train.csv')\n",
    "filenames = train['filename'].values.tolist()"
   ]
  },
  {
   "cell_type": "code",
   "execution_count": 5,
   "metadata": {},
   "outputs": [
    {
     "data": {
      "text/html": [
       "<div>\n",
       "<style scoped>\n",
       "    .dataframe tbody tr th:only-of-type {\n",
       "        vertical-align: middle;\n",
       "    }\n",
       "\n",
       "    .dataframe tbody tr th {\n",
       "        vertical-align: top;\n",
       "    }\n",
       "\n",
       "    .dataframe thead th {\n",
       "        text-align: right;\n",
       "    }\n",
       "</style>\n",
       "<table border=\"1\" class=\"dataframe\">\n",
       "  <thead>\n",
       "    <tr style=\"text-align: right;\">\n",
       "      <th></th>\n",
       "      <th>filename</th>\n",
       "      <th>age</th>\n",
       "      <th>sex</th>\n",
       "      <th>melanoma_history</th>\n",
       "      <th>tif_cksum</th>\n",
       "      <th>tif_size</th>\n",
       "      <th>us_tif_url</th>\n",
       "      <th>eu_tif_url</th>\n",
       "      <th>as_tif_url</th>\n",
       "      <th>local_url</th>\n",
       "      <th>relapse</th>\n",
       "    </tr>\n",
       "  </thead>\n",
       "  <tbody>\n",
       "    <tr>\n",
       "      <th>1341</th>\n",
       "      <td>nv7n6c5c.tif</td>\n",
       "      <td>0.897959</td>\n",
       "      <td>0</td>\n",
       "      <td>-1</td>\n",
       "      <td>3070856857</td>\n",
       "      <td>1110554288</td>\n",
       "      <td>s3://drivendata-competition-visiomel-public-us...</td>\n",
       "      <td>s3://drivendata-competition-visiomel-public-eu...</td>\n",
       "      <td>s3://drivendata-competition-visiomel-public-as...</td>\n",
       "      <td>s3://visiomel/originals/nv7n6c5c.tif</td>\n",
       "      <td>0</td>\n",
       "    </tr>\n",
       "  </tbody>\n",
       "</table>\n",
       "</div>"
      ],
      "text/plain": [
       "          filename       age  sex  melanoma_history   tif_cksum    tif_size   \n",
       "1341  nv7n6c5c.tif  0.897959    0                -1  3070856857  1110554288  \\\n",
       "\n",
       "                                             us_tif_url   \n",
       "1341  s3://drivendata-competition-visiomel-public-us...  \\\n",
       "\n",
       "                                             eu_tif_url   \n",
       "1341  s3://drivendata-competition-visiomel-public-eu...  \\\n",
       "\n",
       "                                             as_tif_url   \n",
       "1341  s3://drivendata-competition-visiomel-public-as...  \\\n",
       "\n",
       "                                 local_url  relapse  \n",
       "1341  s3://visiomel/originals/nv7n6c5c.tif        0  "
      ]
     },
     "execution_count": 5,
     "metadata": {},
     "output_type": "execute_result"
    }
   ],
   "source": [
    "train[train['filename'] == 'nv7n6c5c.tif']"
   ]
  },
  {
   "cell_type": "code",
   "execution_count": null,
   "metadata": {},
   "outputs": [],
   "source": []
  }
 ],
 "metadata": {
  "kernelspec": {
   "display_name": "kaggle",
   "language": "python",
   "name": "python3"
  },
  "language_info": {
   "codemirror_mode": {
    "name": "ipython",
    "version": 3
   },
   "file_extension": ".py",
   "mimetype": "text/x-python",
   "name": "python",
   "nbconvert_exporter": "python",
   "pygments_lexer": "ipython3",
   "version": "3.11.3"
  },
  "orig_nbformat": 4
 },
 "nbformat": 4,
 "nbformat_minor": 2
}
