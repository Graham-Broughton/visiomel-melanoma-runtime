{
 "cells": [
  {
   "cell_type": "code",
   "execution_count": 18,
   "metadata": {},
   "outputs": [],
   "source": [
    "# %matplotlib notebook\n",
    "import pandas as pd\n",
    "import numpy as np\n",
    "import multiprocessing\n",
    "import argparse\n",
    "from datetime import timedelta\n",
    "import pyvips\n",
    "from PIL import Image\n",
    "import time\n",
    "import random\n",
    "import gc\n",
    "import logging\n",
    "import os\n",
    "from pathlib import Path\n",
    "import sys\n",
    "import matplotlib.pyplot as plt\n",
    "from torch.utils.data import DataLoader\n",
    "\n",
    "sys.path.append('..')\n",
    "from src.wsi import slides, filters, tiles, util\n",
    "from src import dataset, dataloading\n",
    "\n",
    "BASE_PATH = Path(os.path.dirname(os.getcwd()))\n",
    "DATA_PATH = BASE_PATH / 'data' / 'originals'\n",
    "PROCESSED_DATA = BASE_PATH / 'data' / 'processed'"
   ]
  },
  {
   "cell_type": "code",
   "execution_count": 2,
   "metadata": {},
   "outputs": [],
   "source": [
    "low = pd.read_csv(BASE_PATH / 'data' / 'lowres.csv')\n",
    "hi = pd.read_csv(BASE_PATH / 'data' / 'hires.csv')\n",
    "# row = train.iloc[2]\n",
    "# image = pyvips.Image.new_from_file(f'../data/originals/{row[\"filename\"]}', access='sequential')\n",
    "# image.filename, image.width, image.height"
   ]
  },
  {
   "cell_type": "code",
   "execution_count": 3,
   "metadata": {},
   "outputs": [],
   "source": [
    "names = !ls ../workspace/tile_data/48\n",
    "names = [x.split('-')[0] for x in names]"
   ]
  },
  {
   "cell_type": "code",
   "execution_count": 13,
   "metadata": {},
   "outputs": [],
   "source": [
    "from glob import glob\n",
    "set1 = set(hi['filename'].str.split('.').str[0])\n",
    "set2 = set(names)\n",
    "dels = set2.intersection(set1)\n",
    "len(dels)\n",
    "for file in dels:\n",
    "    f = f'../workspace/tile_data/48/{file}-tile_data.csv'\n",
    "    os.remove(f)\n",
    "    f = f'../workspace/tile_data/64/{file}-tile_data.csv'\n",
    "    os.remove(f)\n",
    "    f = f'../workspace/tiles/data/processed/*/*/{file}*'\n",
    "    files = glob(f)\n",
    "    for fil in files:\n",
    "        os.remove(fil)"
   ]
  },
  {
   "cell_type": "code",
   "execution_count": 3,
   "metadata": {},
   "outputs": [
    {
     "data": {
      "text/plain": [
       "(3, 'none', 'uchar', 'srgb')"
      ]
     },
     "execution_count": 3,
     "metadata": {},
     "output_type": "execute_result"
    }
   ],
   "source": [
    "image.get('bands'), image.get('coding'), image.get('format'), image.get('interpretation')"
   ]
  },
  {
   "cell_type": "code",
   "execution_count": 8,
   "metadata": {},
   "outputs": [],
   "source": [
    "image.tiffsave('test.tif', compression=\"deflate\",\n",
    "                 tile=True, tile_width=256, tile_height=256,\n",
    "                 pyramid=True)"
   ]
  },
  {
   "cell_type": "code",
   "execution_count": 56,
   "metadata": {},
   "outputs": [],
   "source": [
    "def rimages(index, train, page):\n",
    "    filename, res = train.loc[index, ['filename', 'resolution']]\n",
    "    resizing_factor = res / 0.25\n",
    "    image = pyvips.Image.new_from_file(f'../data/originals/{filename}', page=page)\n",
    "    width, height = image.width, image.height\n",
    "    image = image.affine((resizing_factor, 0, 0, resizing_factor))\n",
    "    return width, height, image, image.width, image.height"
   ]
  },
  {
   "cell_type": "code",
   "execution_count": 3,
   "metadata": {},
   "outputs": [
    {
     "data": {
      "text/plain": [
       "<matplotlib.image.AxesImage at 0x7effc838b8d0>"
      ]
     },
     "execution_count": 3,
     "metadata": {},
     "output_type": "execute_result"
    }
   ],
   "source": [
    "images = pyvips.Image.new_from_file('../data/originals/qmsqv731.tif', page=8)\n",
    "images.height, images.width\n",
    "img = images.write_to_file('test.jpg')\n",
    "# img = np.ndarray(buffer=images.write_to_memory(), dtype=np.uint8, shape=[images.height, images.width, images.bands])\n",
    "plt.imshow(plt.imread('test.jpg'))\n"
   ]
  },
  {
   "cell_type": "code",
   "execution_count": 10,
   "metadata": {},
   "outputs": [],
   "source": [
    "plt.imshow(images.numpy() / 255.)\n",
    "plt.show()"
   ]
  },
  {
   "cell_type": "code",
   "execution_count": 3,
   "metadata": {},
   "outputs": [
    {
     "data": {
      "text/plain": [
       "<matplotlib.image.AxesImage at 0x7f229ab97ed0>"
      ]
     },
     "execution_count": 3,
     "metadata": {},
     "output_type": "execute_result"
    }
   ],
   "source": [
    "img = Image.open('test.jpg')\n",
    "plt.imshow(img)"
   ]
  },
  {
   "cell_type": "code",
   "execution_count": 8,
   "metadata": {},
   "outputs": [],
   "source": [
    "train.iloc[:, :4].to_csv('../data/train.csv', index=False)"
   ]
  },
  {
   "cell_type": "code",
   "execution_count": 87,
   "metadata": {},
   "outputs": [
    {
     "name": "stdout",
     "output_type": "stream",
     "text": [
      "training dataset: 1252 samples\n",
      "training dataset: 117941 tiles\n"
     ]
    },
    {
     "data": {
      "text/plain": [
       "tissue_id            object\n",
       "filename             object\n",
       "relapse               int64\n",
       "split                 int64\n",
       "n_tiles               int64\n",
       "path                 object\n",
       "tile_id               int16\n",
       "is_valid              int64\n",
       "age                 float64\n",
       "sex                   int64\n",
       "melanoma_history      int64\n",
       "dtype: object"
      ]
     },
     "execution_count": 87,
     "metadata": {},
     "output_type": "execute_result"
    }
   ],
   "source": [
    "dftrain = dataset.get_dftrain('../workspace/tiles/data/processed/48/3/', 5, 42, 0)\n",
    "dftrain.dtypes"
   ]
  },
  {
   "cell_type": "code",
   "execution_count": 79,
   "metadata": {},
   "outputs": [
    {
     "data": {
      "text/plain": [
       "tissue_id            object\n",
       "tile_id              object\n",
       "path                 object\n",
       "filename             object\n",
       "melanoma_history    float64\n",
       "sex                 float64\n",
       "age                 float64\n",
       "is_valid            float64\n",
       "n_tiles             float64\n",
       "split               float64\n",
       "relapse             float64\n",
       "dtype: object"
      ]
     },
     "execution_count": 79,
     "metadata": {},
     "output_type": "execute_result"
    }
   ],
   "source": [
    "df = dftrain.groupby('tissue_id').agg({'tile_id': list, 'path': list, 'filename': 'first', 'melanoma_history': 'mean', 'sex': 'mean', 'age': 'mean', 'is_valid': 'mean', 'n_tiles': 'mean', 'split': 'mean', 'relapse': 'mean'}).reset_index()\n",
    "df.dtypes"
   ]
  },
  {
   "cell_type": "code",
   "execution_count": 88,
   "metadata": {},
   "outputs": [
    {
     "name": "stdout",
     "output_type": "stream",
     "text": [
      "training dataset: 1252 samples\n",
      "training dataset: 97504 tiles\n"
     ]
    }
   ],
   "source": [
    "dstrain = dataloading.Dataset('../workspace/tiles/data/processed/48/2/', 5, 42, 0, 80, 16, 256, isval=False)"
   ]
  },
  {
   "cell_type": "code",
   "execution_count": 89,
   "metadata": {},
   "outputs": [],
   "source": [
    "dltrain = DataLoader(dstrain, 1, shuffle=True)"
   ]
  },
  {
   "cell_type": "code",
   "execution_count": 91,
   "metadata": {},
   "outputs": [
    {
     "data": {
      "text/plain": [
       "torch.float32"
      ]
     },
     "execution_count": 91,
     "metadata": {},
     "output_type": "execute_result"
    }
   ],
   "source": [
    "image, meta, label = next(iter(dltrain))\n",
    "meta.dtype"
   ]
  },
  {
   "cell_type": "code",
   "execution_count": 4,
   "metadata": {},
   "outputs": [],
   "source": [
    "%matplotlib inline"
   ]
  },
  {
   "cell_type": "code",
   "execution_count": 12,
   "metadata": {},
   "outputs": [
    {
     "data": {
      "text/plain": [
       "torch.Size([1, 48, 3, 512, 512])"
      ]
     },
     "execution_count": 12,
     "metadata": {},
     "output_type": "execute_result"
    }
   ],
   "source": [
    "x, y = dls.valid.one_batch()\n",
    "x.shape"
   ]
  }
 ],
 "metadata": {
  "kernelspec": {
   "display_name": "kaggle",
   "language": "python",
   "name": "python3"
  },
  "language_info": {
   "codemirror_mode": {
    "name": "ipython",
    "version": 3
   },
   "file_extension": ".py",
   "mimetype": "text/x-python",
   "name": "python",
   "nbconvert_exporter": "python",
   "pygments_lexer": "ipython3",
   "version": "3.11.3"
  },
  "orig_nbformat": 4,
  "vscode": {
   "interpreter": {
    "hash": "f6b5f76bd89ace94f35929ed283191c94ec6b66da415267cdd6104fd6f1e34c2"
   }
  }
 },
 "nbformat": 4,
 "nbformat_minor": 2
}
