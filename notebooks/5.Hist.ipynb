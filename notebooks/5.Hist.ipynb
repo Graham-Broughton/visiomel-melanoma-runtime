{
 "cells": [
  {
   "cell_type": "code",
   "execution_count": 21,
   "metadata": {},
   "outputs": [],
   "source": [
    "# %matplotlib notebook\n",
    "import pandas as pd\n",
    "import numpy as np\n",
    "import multiprocessing\n",
    "import argparse\n",
    "from datetime import timedelta\n",
    "import pyvips\n",
    "from PIL import Image\n",
    "import time\n",
    "import random\n",
    "import gc\n",
    "import logging\n",
    "import os\n",
    "from pathlib import Path\n",
    "import sys\n",
    "import matplotlib.pyplot as plt\n",
    "\n",
    "sys.path.append('..')\n",
    "from src.wsi import slides, filters, tiles, util\n",
    "from src import dataset\n",
    "\n",
    "BASE_PATH = Path(os.path.dirname(os.getcwd()))\n",
    "DATA_PATH = BASE_PATH / 'data' / 'originals'\n",
    "PROCESSED_DATA = BASE_PATH / 'data' / 'processed'"
   ]
  },
  {
   "cell_type": "code",
   "execution_count": 2,
   "metadata": {},
   "outputs": [
    {
     "data": {
      "text/plain": [
       "('../data/originals/bu5xt1xm.tif', 157949, 72896)"
      ]
     },
     "execution_count": 2,
     "metadata": {},
     "output_type": "execute_result"
    }
   ],
   "source": [
    "train = pd.read_csv(BASE_PATH / 'data' / 'testlow.csv')\n",
    "row = train.iloc[2]\n",
    "image = pyvips.Image.new_from_file(f'../data/originals/{row[\"filename\"]}', access='sequential')\n",
    "image.filename, image.width, image.height"
   ]
  },
  {
   "cell_type": "code",
   "execution_count": 3,
   "metadata": {},
   "outputs": [
    {
     "data": {
      "text/plain": [
       "(3, 'none', 'uchar', 'srgb')"
      ]
     },
     "execution_count": 3,
     "metadata": {},
     "output_type": "execute_result"
    }
   ],
   "source": [
    "image.get('bands'), image.get('coding'), image.get('format'), image.get('interpretation')"
   ]
  },
  {
   "cell_type": "code",
   "execution_count": 8,
   "metadata": {},
   "outputs": [],
   "source": [
    "image.tiffsave('test.tif', compression=\"deflate\",\n",
    "                 tile=True, tile_width=256, tile_height=256,\n",
    "                 pyramid=True)"
   ]
  },
  {
   "cell_type": "code",
   "execution_count": 56,
   "metadata": {},
   "outputs": [],
   "source": [
    "def rimages(index, train, page):\n",
    "    filename, res = train.loc[index, ['filename', 'resolution']]\n",
    "    resizing_factor = res / 0.25\n",
    "    image = pyvips.Image.new_from_file(f'../data/originals/{filename}', page=page)\n",
    "    width, height = image.width, image.height\n",
    "    image = image.affine((resizing_factor, 0, 0, resizing_factor))\n",
    "    return width, height, image, image.width, image.height"
   ]
  },
  {
   "cell_type": "code",
   "execution_count": 3,
   "metadata": {},
   "outputs": [
    {
     "data": {
      "text/plain": [
       "<matplotlib.image.AxesImage at 0x7effc838b8d0>"
      ]
     },
     "execution_count": 3,
     "metadata": {},
     "output_type": "execute_result"
    }
   ],
   "source": [
    "images = pyvips.Image.new_from_file('../data/originals/qmsqv731.tif', page=8)\n",
    "images.height, images.width\n",
    "img = images.write_to_file('test.jpg')\n",
    "# img = np.ndarray(buffer=images.write_to_memory(), dtype=np.uint8, shape=[images.height, images.width, images.bands])\n",
    "plt.imshow(plt.imread('test.jpg'))\n"
   ]
  },
  {
   "cell_type": "code",
   "execution_count": 10,
   "metadata": {},
   "outputs": [],
   "source": [
    "plt.imshow(images.numpy() / 255.)\n",
    "plt.show()"
   ]
  },
  {
   "cell_type": "code",
   "execution_count": 3,
   "metadata": {},
   "outputs": [
    {
     "data": {
      "text/plain": [
       "<matplotlib.image.AxesImage at 0x7f229ab97ed0>"
      ]
     },
     "execution_count": 3,
     "metadata": {},
     "output_type": "execute_result"
    }
   ],
   "source": [
    "img = Image.open('test.jpg')\n",
    "plt.imshow(img)"
   ]
  },
  {
   "cell_type": "code",
   "execution_count": 6,
   "metadata": {},
   "outputs": [
    {
     "name": "stdout",
     "output_type": "stream",
     "text": [
      "training dataset: 1257 samples\n",
      "training dataset: 30114 tiles\n",
      "n_tiles\n",
      "24    30024\n",
      "22       22\n",
      "20       20\n",
      "16       16\n",
      "13       13\n",
      "12       12\n",
      "7         7\n",
      "Name: count, dtype: int64\n"
     ]
    },
    {
     "data": {
      "text/html": [
       "<div>\n",
       "<style scoped>\n",
       "    .dataframe tbody tr th:only-of-type {\n",
       "        vertical-align: middle;\n",
       "    }\n",
       "\n",
       "    .dataframe tbody tr th {\n",
       "        vertical-align: top;\n",
       "    }\n",
       "\n",
       "    .dataframe thead th {\n",
       "        text-align: right;\n",
       "    }\n",
       "</style>\n",
       "<table border=\"1\" class=\"dataframe\">\n",
       "  <thead>\n",
       "    <tr style=\"text-align: right;\">\n",
       "      <th></th>\n",
       "      <th>tissue_id</th>\n",
       "      <th>filename</th>\n",
       "      <th>relapse</th>\n",
       "      <th>split</th>\n",
       "      <th>n_tiles</th>\n",
       "      <th>path</th>\n",
       "      <th>tile_id</th>\n",
       "      <th>is_valid</th>\n",
       "    </tr>\n",
       "  </thead>\n",
       "  <tbody>\n",
       "    <tr>\n",
       "      <th>0</th>\n",
       "      <td>00shcdng</td>\n",
       "      <td>00shcdng.tif</td>\n",
       "      <td>0</td>\n",
       "      <td>1</td>\n",
       "      <td>24</td>\n",
       "      <td>../workspace/tiles/data/processed/48/1/00shcdng_0.jpeg</td>\n",
       "      <td>0</td>\n",
       "      <td>0</td>\n",
       "    </tr>\n",
       "    <tr>\n",
       "      <th>1</th>\n",
       "      <td>00shcdng</td>\n",
       "      <td>00shcdng.tif</td>\n",
       "      <td>0</td>\n",
       "      <td>1</td>\n",
       "      <td>24</td>\n",
       "      <td>../workspace/tiles/data/processed/48/1/00shcdng_1.jpeg</td>\n",
       "      <td>1</td>\n",
       "      <td>0</td>\n",
       "    </tr>\n",
       "    <tr>\n",
       "      <th>2</th>\n",
       "      <td>00shcdng</td>\n",
       "      <td>00shcdng.tif</td>\n",
       "      <td>0</td>\n",
       "      <td>1</td>\n",
       "      <td>24</td>\n",
       "      <td>../workspace/tiles/data/processed/48/1/00shcdng_2.jpeg</td>\n",
       "      <td>2</td>\n",
       "      <td>0</td>\n",
       "    </tr>\n",
       "    <tr>\n",
       "      <th>3</th>\n",
       "      <td>00shcdng</td>\n",
       "      <td>00shcdng.tif</td>\n",
       "      <td>0</td>\n",
       "      <td>1</td>\n",
       "      <td>24</td>\n",
       "      <td>../workspace/tiles/data/processed/48/1/00shcdng_3.jpeg</td>\n",
       "      <td>3</td>\n",
       "      <td>0</td>\n",
       "    </tr>\n",
       "    <tr>\n",
       "      <th>4</th>\n",
       "      <td>00shcdng</td>\n",
       "      <td>00shcdng.tif</td>\n",
       "      <td>0</td>\n",
       "      <td>1</td>\n",
       "      <td>24</td>\n",
       "      <td>../workspace/tiles/data/processed/48/1/00shcdng_4.jpeg</td>\n",
       "      <td>4</td>\n",
       "      <td>0</td>\n",
       "    </tr>\n",
       "    <tr>\n",
       "      <th>...</th>\n",
       "      <td>...</td>\n",
       "      <td>...</td>\n",
       "      <td>...</td>\n",
       "      <td>...</td>\n",
       "      <td>...</td>\n",
       "      <td>...</td>\n",
       "      <td>...</td>\n",
       "      <td>...</td>\n",
       "    </tr>\n",
       "    <tr>\n",
       "      <th>30109</th>\n",
       "      <td>zyo5fbtd</td>\n",
       "      <td>zyo5fbtd.tif</td>\n",
       "      <td>1</td>\n",
       "      <td>0</td>\n",
       "      <td>24</td>\n",
       "      <td>../workspace/tiles/data/processed/48/1/zyo5fbtd_19.jpeg</td>\n",
       "      <td>19</td>\n",
       "      <td>1</td>\n",
       "    </tr>\n",
       "    <tr>\n",
       "      <th>30110</th>\n",
       "      <td>zyo5fbtd</td>\n",
       "      <td>zyo5fbtd.tif</td>\n",
       "      <td>1</td>\n",
       "      <td>0</td>\n",
       "      <td>24</td>\n",
       "      <td>../workspace/tiles/data/processed/48/1/zyo5fbtd_20.jpeg</td>\n",
       "      <td>20</td>\n",
       "      <td>1</td>\n",
       "    </tr>\n",
       "    <tr>\n",
       "      <th>30111</th>\n",
       "      <td>zyo5fbtd</td>\n",
       "      <td>zyo5fbtd.tif</td>\n",
       "      <td>1</td>\n",
       "      <td>0</td>\n",
       "      <td>24</td>\n",
       "      <td>../workspace/tiles/data/processed/48/1/zyo5fbtd_21.jpeg</td>\n",
       "      <td>21</td>\n",
       "      <td>1</td>\n",
       "    </tr>\n",
       "    <tr>\n",
       "      <th>30112</th>\n",
       "      <td>zyo5fbtd</td>\n",
       "      <td>zyo5fbtd.tif</td>\n",
       "      <td>1</td>\n",
       "      <td>0</td>\n",
       "      <td>24</td>\n",
       "      <td>../workspace/tiles/data/processed/48/1/zyo5fbtd_22.jpeg</td>\n",
       "      <td>22</td>\n",
       "      <td>1</td>\n",
       "    </tr>\n",
       "    <tr>\n",
       "      <th>30113</th>\n",
       "      <td>zyo5fbtd</td>\n",
       "      <td>zyo5fbtd.tif</td>\n",
       "      <td>1</td>\n",
       "      <td>0</td>\n",
       "      <td>24</td>\n",
       "      <td>../workspace/tiles/data/processed/48/1/zyo5fbtd_23.jpeg</td>\n",
       "      <td>23</td>\n",
       "      <td>1</td>\n",
       "    </tr>\n",
       "  </tbody>\n",
       "</table>\n",
       "<p>30114 rows × 8 columns</p>\n",
       "</div>"
      ],
      "text/plain": [
       "      tissue_id      filename  relapse  split  n_tiles   \n",
       "0      00shcdng  00shcdng.tif        0      1       24  \\\n",
       "1      00shcdng  00shcdng.tif        0      1       24   \n",
       "2      00shcdng  00shcdng.tif        0      1       24   \n",
       "3      00shcdng  00shcdng.tif        0      1       24   \n",
       "4      00shcdng  00shcdng.tif        0      1       24   \n",
       "...         ...           ...      ...    ...      ...   \n",
       "30109  zyo5fbtd  zyo5fbtd.tif        1      0       24   \n",
       "30110  zyo5fbtd  zyo5fbtd.tif        1      0       24   \n",
       "30111  zyo5fbtd  zyo5fbtd.tif        1      0       24   \n",
       "30112  zyo5fbtd  zyo5fbtd.tif        1      0       24   \n",
       "30113  zyo5fbtd  zyo5fbtd.tif        1      0       24   \n",
       "\n",
       "                                                          path  tile_id   \n",
       "0       ../workspace/tiles/data/processed/48/1/00shcdng_0.jpeg        0  \\\n",
       "1       ../workspace/tiles/data/processed/48/1/00shcdng_1.jpeg        1   \n",
       "2       ../workspace/tiles/data/processed/48/1/00shcdng_2.jpeg        2   \n",
       "3       ../workspace/tiles/data/processed/48/1/00shcdng_3.jpeg        3   \n",
       "4       ../workspace/tiles/data/processed/48/1/00shcdng_4.jpeg        4   \n",
       "...                                                        ...      ...   \n",
       "30109  ../workspace/tiles/data/processed/48/1/zyo5fbtd_19.jpeg       19   \n",
       "30110  ../workspace/tiles/data/processed/48/1/zyo5fbtd_20.jpeg       20   \n",
       "30111  ../workspace/tiles/data/processed/48/1/zyo5fbtd_21.jpeg       21   \n",
       "30112  ../workspace/tiles/data/processed/48/1/zyo5fbtd_22.jpeg       22   \n",
       "30113  ../workspace/tiles/data/processed/48/1/zyo5fbtd_23.jpeg       23   \n",
       "\n",
       "       is_valid  \n",
       "0             0  \n",
       "1             0  \n",
       "2             0  \n",
       "3             0  \n",
       "4             0  \n",
       "...         ...  \n",
       "30109         1  \n",
       "30110         1  \n",
       "30111         1  \n",
       "30112         1  \n",
       "30113         1  \n",
       "\n",
       "[30114 rows x 8 columns]"
      ]
     },
     "execution_count": 6,
     "metadata": {},
     "output_type": "execute_result"
    }
   ],
   "source": [
    "dftrain = dataset.get_dftrain('../workspace/tiles/data/processed/48/1/')\n",
    "print(dftrain.n_tiles.value_counts())\n",
    "dftrain"
   ]
  },
  {
   "cell_type": "code",
   "execution_count": 45,
   "metadata": {},
   "outputs": [],
   "source": [
    "dls = dataset.get_dataloader(dftrain)\n",
    "#tr, val = dblock.splitter(dblock.get_items(dftrain))\n",
    "#dataset.show_tile_batch(dls)"
   ]
  },
  {
   "cell_type": "code",
   "execution_count": 46,
   "metadata": {},
   "outputs": [],
   "source": [
    "tr = dls.train"
   ]
  },
  {
   "cell_type": "code",
   "execution_count": 4,
   "metadata": {},
   "outputs": [],
   "source": [
    "%matplotlib inline"
   ]
  },
  {
   "cell_type": "code",
   "execution_count": 44,
   "metadata": {},
   "outputs": [
    {
     "data": {
      "text/plain": [
       "torch.Size([16, 3, 768, 768])"
      ]
     },
     "execution_count": 44,
     "metadata": {},
     "output_type": "execute_result"
    }
   ],
   "source": [
    "x, y = dls.valid.one_batch()\n",
    "x[0].shape"
   ]
  }
 ],
 "metadata": {
  "kernelspec": {
   "display_name": "kaggle",
   "language": "python",
   "name": "python3"
  },
  "language_info": {
   "codemirror_mode": {
    "name": "ipython",
    "version": 3
   },
   "file_extension": ".py",
   "mimetype": "text/x-python",
   "name": "python",
   "nbconvert_exporter": "python",
   "pygments_lexer": "ipython3",
   "version": "3.11.3"
  },
  "orig_nbformat": 4,
  "vscode": {
   "interpreter": {
    "hash": "f6b5f76bd89ace94f35929ed283191c94ec6b66da415267cdd6104fd6f1e34c2"
   }
  }
 },
 "nbformat": 4,
 "nbformat_minor": 2
}
