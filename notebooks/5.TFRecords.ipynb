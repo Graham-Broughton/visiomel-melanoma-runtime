{
 "cells": [
  {
   "cell_type": "code",
   "execution_count": 15,
   "metadata": {},
   "outputs": [],
   "source": [
    "import sys\n",
    "sys.path.append('..')\n",
    "from config import CFG\n",
    "CFG = CFG()\n",
    "import src.tfrecord"
   ]
  },
  {
   "cell_type": "code",
   "execution_count": 16,
   "metadata": {},
   "outputs": [],
   "source": [
    "make_tf = src.tfrecord.MakeTFRecords(CFG.DATA_PATH, 3)"
   ]
  },
  {
   "cell_type": "code",
   "execution_count": 17,
   "metadata": {},
   "outputs": [
    {
     "name": "stderr",
     "output_type": "stream",
     "text": [
      "2023-04-09 04:11:39.382 | INFO     | src.tfrecord:main:112 - Creating record 0\n"
     ]
    },
    {
     "name": "stdout",
     "output_type": "stream",
     "text": [
      "cp s3://visiomel/originals/1u4lhlqb.tif 1u4lhlqb.tif\n",
      "cp /home/broug/Desktop/visiomel-melanoma-runtime/data/tfrecords/train_0.tfrec s3://visiomel/page_3/train_0.tfrec\n",
      "cp s3://visiomel/originals/rqumqnfp.tif rqumqnfp.tif\n",
      "cp /home/broug/Desktop/visiomel-melanoma-runtime/data/tfrecords/train_0.tfrec s3://visiomel/page_3/train_0.tfrec\n",
      "cp s3://visiomel/originals/bu5xt1xm.tif bu5xt1xm.tif\n",
      "cp /home/broug/Desktop/visiomel-melanoma-runtime/data/tfrecords/train_0.tfrec s3://visiomel/page_3/train_0.tfrec\n",
      "cp s3://visiomel/originals/dibvu7wk.tif dibvu7wk.tif\n"
     ]
    },
    {
     "name": "stderr",
     "output_type": "stream",
     "text": [
      "2023-04-09 04:12:18.150 | INFO     | src.tfrecord:main:112 - Creating record 1\n"
     ]
    },
    {
     "name": "stdout",
     "output_type": "stream",
     "text": [
      "cp /home/broug/Desktop/visiomel-melanoma-runtime/data/tfrecords/train_0.tfrec s3://visiomel/page_3/train_0.tfrec\n",
      "cp s3://visiomel/originals/qsza4coh.tif qsza4coh.tif\n",
      "cp /home/broug/Desktop/visiomel-melanoma-runtime/data/tfrecords/train_1.tfrec s3://visiomel/page_3/train_1.tfrec\n",
      "cp s3://visiomel/originals/xzykifvw.tif xzykifvw.tif\n",
      "cp /home/broug/Desktop/visiomel-melanoma-runtime/data/tfrecords/train_1.tfrec s3://visiomel/page_3/train_1.tfrec\n",
      "cp s3://visiomel/originals/1qvd8x3f.tif 1qvd8x3f.tif\n",
      "cp /home/broug/Desktop/visiomel-melanoma-runtime/data/tfrecords/train_1.tfrec s3://visiomel/page_3/train_1.tfrec\n",
      "cp s3://visiomel/originals/nqazk74i.tif nqazk74i.tif\n"
     ]
    },
    {
     "name": "stderr",
     "output_type": "stream",
     "text": [
      "2023-04-09 04:13:09.643 | INFO     | src.tfrecord:main:112 - Creating record 2\n"
     ]
    },
    {
     "name": "stdout",
     "output_type": "stream",
     "text": [
      "cp /home/broug/Desktop/visiomel-melanoma-runtime/data/tfrecords/train_1.tfrec s3://visiomel/page_3/train_1.tfrec\n",
      "cp s3://visiomel/originals/05eq9f1y.tif 05eq9f1y.tif\n",
      "cp /home/broug/Desktop/visiomel-melanoma-runtime/data/tfrecords/train_2.tfrec s3://visiomel/page_3/train_2.tfrec\n",
      "cp s3://visiomel/originals/qw26pe92.tif qw26pe92.tif\n",
      "cp /home/broug/Desktop/visiomel-melanoma-runtime/data/tfrecords/train_2.tfrec s3://visiomel/page_3/train_2.tfrec\n",
      "cp s3://visiomel/originals/kn352tx7.tif kn352tx7.tif\n",
      "cp /home/broug/Desktop/visiomel-melanoma-runtime/data/tfrecords/train_2.tfrec s3://visiomel/page_3/train_2.tfrec\n",
      "cp s3://visiomel/originals/nlaolgf8.tif nlaolgf8.tif\n"
     ]
    },
    {
     "name": "stderr",
     "output_type": "stream",
     "text": [
      "2023-04-09 04:13:51.636 | INFO     | src.tfrecord:main:112 - Creating record 3\n"
     ]
    },
    {
     "name": "stdout",
     "output_type": "stream",
     "text": [
      "cp /home/broug/Desktop/visiomel-melanoma-runtime/data/tfrecords/train_2.tfrec s3://visiomel/page_3/train_2.tfrec\n",
      "cp s3://visiomel/originals/gzyqslsa.tif gzyqslsa.tif\n",
      "cp /home/broug/Desktop/visiomel-melanoma-runtime/data/tfrecords/train_3.tfrec s3://visiomel/page_3/train_3.tfrec\n",
      "cp s3://visiomel/originals/2q7cf9vx.tif 2q7cf9vx.tif\n",
      "cp /home/broug/Desktop/visiomel-melanoma-runtime/data/tfrecords/train_3.tfrec s3://visiomel/page_3/train_3.tfrec\n",
      "cp s3://visiomel/originals/5jy1o8lq.tif 5jy1o8lq.tif\n",
      "cp /home/broug/Desktop/visiomel-melanoma-runtime/data/tfrecords/train_3.tfrec s3://visiomel/page_3/train_3.tfrec\n",
      "cp s3://visiomel/originals/eupw74sq.tif eupw74sq.tif\n"
     ]
    },
    {
     "name": "stderr",
     "output_type": "stream",
     "text": [
      "2023-04-09 04:14:28.546 | INFO     | src.tfrecord:main:112 - Creating record 4\n"
     ]
    },
    {
     "name": "stdout",
     "output_type": "stream",
     "text": [
      "cp /home/broug/Desktop/visiomel-melanoma-runtime/data/tfrecords/train_3.tfrec s3://visiomel/page_3/train_3.tfrec\n",
      "cp s3://visiomel/originals/uf0adhgl.tif uf0adhgl.tif\n",
      "cp /home/broug/Desktop/visiomel-melanoma-runtime/data/tfrecords/train_4.tfrec s3://visiomel/page_3/train_4.tfrec\n",
      "cp s3://visiomel/originals/v2lfwoy3.tif v2lfwoy3.tif\n",
      "cp /home/broug/Desktop/visiomel-melanoma-runtime/data/tfrecords/train_4.tfrec s3://visiomel/page_3/train_4.tfrec\n",
      "cp s3://visiomel/originals/ej3uwuem.tif ej3uwuem.tif\n",
      "cp /home/broug/Desktop/visiomel-melanoma-runtime/data/tfrecords/train_4.tfrec s3://visiomel/page_3/train_4.tfrec\n",
      "cp s3://visiomel/originals/k85cemwe.tif k85cemwe.tif\n"
     ]
    },
    {
     "name": "stderr",
     "output_type": "stream",
     "text": [
      "2023-04-09 04:15:20.227 | INFO     | src.tfrecord:main:112 - Creating record 5\n"
     ]
    },
    {
     "name": "stdout",
     "output_type": "stream",
     "text": [
      "cp /home/broug/Desktop/visiomel-melanoma-runtime/data/tfrecords/train_4.tfrec s3://visiomel/page_3/train_4.tfrec\n",
      "cp s3://visiomel/originals/70j26gp1.tif 70j26gp1.tif\n",
      "cp /home/broug/Desktop/visiomel-melanoma-runtime/data/tfrecords/train_5.tfrec s3://visiomel/page_3/train_5.tfrec\n",
      "cp s3://visiomel/originals/hivilrwh.tif hivilrwh.tif\n",
      "cp /home/broug/Desktop/visiomel-melanoma-runtime/data/tfrecords/train_5.tfrec s3://visiomel/page_3/train_5.tfrec\n",
      "cp s3://visiomel/originals/lzvsdyz8.tif lzvsdyz8.tif\n",
      "cp /home/broug/Desktop/visiomel-melanoma-runtime/data/tfrecords/train_5.tfrec s3://visiomel/page_3/train_5.tfrec\n",
      "cp s3://visiomel/originals/c4foxlee.tif c4foxlee.tif\n"
     ]
    },
    {
     "name": "stderr",
     "output_type": "stream",
     "text": [
      "2023-04-09 04:15:40.676 | INFO     | src.tfrecord:main:112 - Creating record 6\n"
     ]
    },
    {
     "name": "stdout",
     "output_type": "stream",
     "text": [
      "cp /home/broug/Desktop/visiomel-melanoma-runtime/data/tfrecords/train_5.tfrec s3://visiomel/page_3/train_5.tfrec\n",
      "cp s3://visiomel/originals/ej5t47km.tif ej5t47km.tif\n",
      "cp /home/broug/Desktop/visiomel-melanoma-runtime/data/tfrecords/train_6.tfrec s3://visiomel/page_3/train_6.tfrec\n",
      "cp s3://visiomel/originals/amav5gs4.tif amav5gs4.tif\n",
      "cp /home/broug/Desktop/visiomel-melanoma-runtime/data/tfrecords/train_6.tfrec s3://visiomel/page_3/train_6.tfrec\n",
      "cp s3://visiomel/originals/ki8bbg7j.tif ki8bbg7j.tif\n",
      "cp /home/broug/Desktop/visiomel-melanoma-runtime/data/tfrecords/train_6.tfrec s3://visiomel/page_3/train_6.tfrec\n",
      "cp s3://visiomel/originals/itpipmdf.tif itpipmdf.tif\n"
     ]
    },
    {
     "name": "stderr",
     "output_type": "stream",
     "text": [
      "2023-04-09 04:16:48.055 | INFO     | src.tfrecord:main:112 - Creating record 7\n"
     ]
    },
    {
     "name": "stdout",
     "output_type": "stream",
     "text": [
      "cp /home/broug/Desktop/visiomel-melanoma-runtime/data/tfrecords/train_6.tfrec s3://visiomel/page_3/train_6.tfrec\n",
      "cp s3://visiomel/originals/ltr6slec.tif ltr6slec.tif\n",
      "cp /home/broug/Desktop/visiomel-melanoma-runtime/data/tfrecords/train_7.tfrec s3://visiomel/page_3/train_7.tfrec\n",
      "cp s3://visiomel/originals/qmsqv731.tif qmsqv731.tif\n",
      "cp /home/broug/Desktop/visiomel-melanoma-runtime/data/tfrecords/train_7.tfrec s3://visiomel/page_3/train_7.tfrec\n",
      "cp s3://visiomel/originals/s4jvxvh0.tif s4jvxvh0.tif\n",
      "cp /home/broug/Desktop/visiomel-melanoma-runtime/data/tfrecords/train_7.tfrec s3://visiomel/page_3/train_7.tfrec\n",
      "cp s3://visiomel/originals/z56amlxb.tif z56amlxb.tif\n"
     ]
    },
    {
     "name": "stderr",
     "output_type": "stream",
     "text": [
      "2023-04-09 04:17:43.535 | INFO     | src.tfrecord:main:112 - Creating record 8\n"
     ]
    },
    {
     "name": "stdout",
     "output_type": "stream",
     "text": [
      "cp /home/broug/Desktop/visiomel-melanoma-runtime/data/tfrecords/train_7.tfrec s3://visiomel/page_3/train_7.tfrec\n",
      "cp s3://visiomel/originals/ie60p47t.tif ie60p47t.tif\n",
      "cp /home/broug/Desktop/visiomel-melanoma-runtime/data/tfrecords/train_8.tfrec s3://visiomel/page_3/train_8.tfrec\n",
      "cp s3://visiomel/originals/jdso97ug.tif jdso97ug.tif\n",
      "cp /home/broug/Desktop/visiomel-melanoma-runtime/data/tfrecords/train_8.tfrec s3://visiomel/page_3/train_8.tfrec\n",
      "cp s3://visiomel/originals/31drdibd.tif 31drdibd.tif\n",
      "cp /home/broug/Desktop/visiomel-melanoma-runtime/data/tfrecords/train_8.tfrec s3://visiomel/page_3/train_8.tfrec\n",
      "cp s3://visiomel/originals/ck030hq8.tif ck030hq8.tif\n"
     ]
    },
    {
     "name": "stderr",
     "output_type": "stream",
     "text": [
      "2023-04-09 04:18:29.087 | INFO     | src.tfrecord:main:112 - Creating record 9\n"
     ]
    },
    {
     "name": "stdout",
     "output_type": "stream",
     "text": [
      "cp /home/broug/Desktop/visiomel-melanoma-runtime/data/tfrecords/train_8.tfrec s3://visiomel/page_3/train_8.tfrec\n",
      "cp s3://visiomel/originals/g4pp5cj4.tif g4pp5cj4.tif\n",
      "cp /home/broug/Desktop/visiomel-melanoma-runtime/data/tfrecords/train_9.tfrec s3://visiomel/page_3/train_9.tfrec\n",
      "cp s3://visiomel/originals/ve02a0xh.tif ve02a0xh.tif\n",
      "cp /home/broug/Desktop/visiomel-melanoma-runtime/data/tfrecords/train_9.tfrec s3://visiomel/page_3/train_9.tfrec\n",
      "cp s3://visiomel/originals/aq2qyinz.tif aq2qyinz.tif\n",
      "cp /home/broug/Desktop/visiomel-melanoma-runtime/data/tfrecords/train_9.tfrec s3://visiomel/page_3/train_9.tfrec\n",
      "cp s3://visiomel/originals/4fvoypq4.tif 4fvoypq4.tif\n"
     ]
    },
    {
     "name": "stderr",
     "output_type": "stream",
     "text": [
      "2023-04-09 04:18:58.290 | INFO     | src.tfrecord:main:112 - Creating record 10\n"
     ]
    },
    {
     "name": "stdout",
     "output_type": "stream",
     "text": [
      "cp /home/broug/Desktop/visiomel-melanoma-runtime/data/tfrecords/train_9.tfrec s3://visiomel/page_3/train_9.tfrec\n",
      "cp s3://visiomel/originals/uv7cnel3.tif uv7cnel3.tif\n",
      "cp /home/broug/Desktop/visiomel-melanoma-runtime/data/tfrecords/train_10.tfrec s3://visiomel/page_3/train_10.tfrec\n",
      "cp s3://visiomel/originals/he0o9kqd.tif he0o9kqd.tif\n",
      "cp /home/broug/Desktop/visiomel-melanoma-runtime/data/tfrecords/train_10.tfrec s3://visiomel/page_3/train_10.tfrec\n",
      "cp s3://visiomel/originals/su7l5yu0.tif su7l5yu0.tif\n",
      "cp /home/broug/Desktop/visiomel-melanoma-runtime/data/tfrecords/train_10.tfrec s3://visiomel/page_3/train_10.tfrec\n",
      "cp s3://visiomel/originals/h9e45g3z.tif h9e45g3z.tif\n"
     ]
    },
    {
     "name": "stderr",
     "output_type": "stream",
     "text": [
      "2023-04-09 04:19:41.322 | INFO     | src.tfrecord:main:112 - Creating record 11\n"
     ]
    },
    {
     "name": "stdout",
     "output_type": "stream",
     "text": [
      "cp /home/broug/Desktop/visiomel-melanoma-runtime/data/tfrecords/train_10.tfrec s3://visiomel/page_3/train_10.tfrec\n",
      "cp s3://visiomel/originals/hraxt06h.tif hraxt06h.tif\n",
      "cp /home/broug/Desktop/visiomel-melanoma-runtime/data/tfrecords/train_11.tfrec s3://visiomel/page_3/train_11.tfrec\n",
      "cp s3://visiomel/originals/w6uejlue.tif w6uejlue.tif\n",
      "cp /home/broug/Desktop/visiomel-melanoma-runtime/data/tfrecords/train_11.tfrec s3://visiomel/page_3/train_11.tfrec\n",
      "cp s3://visiomel/originals/8k7p5vsq.tif 8k7p5vsq.tif\n",
      "cp /home/broug/Desktop/visiomel-melanoma-runtime/data/tfrecords/train_11.tfrec s3://visiomel/page_3/train_11.tfrec\n",
      "cp s3://visiomel/originals/jkzmfntc.tif jkzmfntc.tif\n"
     ]
    },
    {
     "name": "stderr",
     "output_type": "stream",
     "text": [
      "2023-04-09 04:20:24.560 | INFO     | src.tfrecord:main:112 - Creating record 12\n"
     ]
    },
    {
     "name": "stdout",
     "output_type": "stream",
     "text": [
      "cp /home/broug/Desktop/visiomel-melanoma-runtime/data/tfrecords/train_11.tfrec s3://visiomel/page_3/train_11.tfrec\n",
      "cp s3://visiomel/originals/ipk4yn9t.tif ipk4yn9t.tif\n",
      "cp /home/broug/Desktop/visiomel-melanoma-runtime/data/tfrecords/train_12.tfrec s3://visiomel/page_3/train_12.tfrec\n",
      "cp s3://visiomel/originals/94eych88.tif 94eych88.tif\n",
      "cp /home/broug/Desktop/visiomel-melanoma-runtime/data/tfrecords/train_12.tfrec s3://visiomel/page_3/train_12.tfrec\n",
      "cp s3://visiomel/originals/dowcu1iw.tif dowcu1iw.tif\n",
      "cp /home/broug/Desktop/visiomel-melanoma-runtime/data/tfrecords/train_12.tfrec s3://visiomel/page_3/train_12.tfrec\n",
      "cp s3://visiomel/originals/nkhfkme9.tif nkhfkme9.tif\n"
     ]
    },
    {
     "name": "stderr",
     "output_type": "stream",
     "text": [
      "2023-04-09 04:21:36.928 | INFO     | src.tfrecord:main:112 - Creating record 13\n"
     ]
    },
    {
     "name": "stdout",
     "output_type": "stream",
     "text": [
      "cp /home/broug/Desktop/visiomel-melanoma-runtime/data/tfrecords/train_12.tfrec s3://visiomel/page_3/train_12.tfrec\n",
      "cp s3://visiomel/originals/rzzqzh42.tif rzzqzh42.tif\n",
      "cp /home/broug/Desktop/visiomel-melanoma-runtime/data/tfrecords/train_13.tfrec s3://visiomel/page_3/train_13.tfrec\n",
      "cp s3://visiomel/originals/4q3t9czw.tif 4q3t9czw.tif\n",
      "cp /home/broug/Desktop/visiomel-melanoma-runtime/data/tfrecords/train_13.tfrec s3://visiomel/page_3/train_13.tfrec\n",
      "cp s3://visiomel/originals/djpdxa12.tif djpdxa12.tif\n",
      "cp /home/broug/Desktop/visiomel-melanoma-runtime/data/tfrecords/train_13.tfrec s3://visiomel/page_3/train_13.tfrec\n",
      "cp s3://visiomel/originals/rt8wrl8w.tif rt8wrl8w.tif\n"
     ]
    },
    {
     "name": "stderr",
     "output_type": "stream",
     "text": [
      "2023-04-09 04:22:31.012 | INFO     | src.tfrecord:main:112 - Creating record 14\n"
     ]
    },
    {
     "name": "stdout",
     "output_type": "stream",
     "text": [
      "cp /home/broug/Desktop/visiomel-melanoma-runtime/data/tfrecords/train_13.tfrec s3://visiomel/page_3/train_13.tfrec\n",
      "cp s3://visiomel/originals/ahvy88kd.tif ahvy88kd.tif\n",
      "cp /home/broug/Desktop/visiomel-melanoma-runtime/data/tfrecords/train_14.tfrec s3://visiomel/page_3/train_14.tfrec\n",
      "cp s3://visiomel/originals/akoar9jx.tif akoar9jx.tif\n",
      "cp /home/broug/Desktop/visiomel-melanoma-runtime/data/tfrecords/train_14.tfrec s3://visiomel/page_3/train_14.tfrec\n",
      "cp s3://visiomel/originals/vovxll0a.tif vovxll0a.tif\n",
      "cp /home/broug/Desktop/visiomel-melanoma-runtime/data/tfrecords/train_14.tfrec s3://visiomel/page_3/train_14.tfrec\n",
      "cp s3://visiomel/originals/mspfd6eh.tif mspfd6eh.tif\n"
     ]
    },
    {
     "name": "stderr",
     "output_type": "stream",
     "text": [
      "2023-04-09 04:23:06.918 | INFO     | src.tfrecord:main:112 - Creating record 15\n"
     ]
    },
    {
     "name": "stdout",
     "output_type": "stream",
     "text": [
      "cp /home/broug/Desktop/visiomel-melanoma-runtime/data/tfrecords/train_14.tfrec s3://visiomel/page_3/train_14.tfrec\n",
      "cp s3://visiomel/originals/dioqf0qv.tif dioqf0qv.tif\n",
      "cp /home/broug/Desktop/visiomel-melanoma-runtime/data/tfrecords/train_15.tfrec s3://visiomel/page_3/train_15.tfrec\n",
      "cp s3://visiomel/originals/64hzmtni.tif 64hzmtni.tif\n",
      "cp /home/broug/Desktop/visiomel-melanoma-runtime/data/tfrecords/train_15.tfrec s3://visiomel/page_3/train_15.tfrec\n",
      "cp s3://visiomel/originals/4xqs6vif.tif 4xqs6vif.tif\n",
      "cp /home/broug/Desktop/visiomel-melanoma-runtime/data/tfrecords/train_15.tfrec s3://visiomel/page_3/train_15.tfrec\n",
      "cp s3://visiomel/originals/qpmevu5z.tif qpmevu5z.tif\n"
     ]
    },
    {
     "name": "stderr",
     "output_type": "stream",
     "text": [
      "2023-04-09 04:23:48.140 | INFO     | src.tfrecord:main:112 - Creating record 16\n"
     ]
    },
    {
     "name": "stdout",
     "output_type": "stream",
     "text": [
      "cp /home/broug/Desktop/visiomel-melanoma-runtime/data/tfrecords/train_15.tfrec s3://visiomel/page_3/train_15.tfrec\n",
      "cp s3://visiomel/originals/eil0j898.tif eil0j898.tif\n",
      "cp /home/broug/Desktop/visiomel-melanoma-runtime/data/tfrecords/train_16.tfrec s3://visiomel/page_3/train_16.tfrec\n",
      "cp s3://visiomel/originals/ddmh0u0u.tif ddmh0u0u.tif\n",
      "cp /home/broug/Desktop/visiomel-melanoma-runtime/data/tfrecords/train_16.tfrec s3://visiomel/page_3/train_16.tfrec\n",
      "cp s3://visiomel/originals/rlhl17ol.tif rlhl17ol.tif\n",
      "cp /home/broug/Desktop/visiomel-melanoma-runtime/data/tfrecords/train_16.tfrec s3://visiomel/page_3/train_16.tfrec\n",
      "cp s3://visiomel/originals/8li0qu75.tif 8li0qu75.tif\n"
     ]
    },
    {
     "name": "stderr",
     "output_type": "stream",
     "text": [
      "2023-04-09 04:24:50.998 | INFO     | src.tfrecord:main:112 - Creating record 17\n"
     ]
    },
    {
     "name": "stdout",
     "output_type": "stream",
     "text": [
      "cp /home/broug/Desktop/visiomel-melanoma-runtime/data/tfrecords/train_16.tfrec s3://visiomel/page_3/train_16.tfrec\n",
      "cp s3://visiomel/originals/narl5hto.tif narl5hto.tif\n",
      "cp /home/broug/Desktop/visiomel-melanoma-runtime/data/tfrecords/train_17.tfrec s3://visiomel/page_3/train_17.tfrec\n",
      "cp s3://visiomel/originals/ij8om5ub.tif ij8om5ub.tif\n",
      "cp /home/broug/Desktop/visiomel-melanoma-runtime/data/tfrecords/train_17.tfrec s3://visiomel/page_3/train_17.tfrec\n",
      "cp s3://visiomel/originals/mnzzv7ds.tif mnzzv7ds.tif\n",
      "cp /home/broug/Desktop/visiomel-melanoma-runtime/data/tfrecords/train_17.tfrec s3://visiomel/page_3/train_17.tfrec\n",
      "cp s3://visiomel/originals/7lm0qvdv.tif 7lm0qvdv.tif\n"
     ]
    },
    {
     "name": "stderr",
     "output_type": "stream",
     "text": [
      "2023-04-09 04:25:46.240 | INFO     | src.tfrecord:main:112 - Creating record 18\n"
     ]
    },
    {
     "name": "stdout",
     "output_type": "stream",
     "text": [
      "cp /home/broug/Desktop/visiomel-melanoma-runtime/data/tfrecords/train_17.tfrec s3://visiomel/page_3/train_17.tfrec\n",
      "cp s3://visiomel/originals/c891urd8.tif c891urd8.tif\n",
      "cp /home/broug/Desktop/visiomel-melanoma-runtime/data/tfrecords/train_18.tfrec s3://visiomel/page_3/train_18.tfrec\n",
      "cp s3://visiomel/originals/4xejray1.tif 4xejray1.tif\n",
      "cp /home/broug/Desktop/visiomel-melanoma-runtime/data/tfrecords/train_18.tfrec s3://visiomel/page_3/train_18.tfrec\n",
      "cp s3://visiomel/originals/g8x0c6mv.tif g8x0c6mv.tif\n",
      "cp /home/broug/Desktop/visiomel-melanoma-runtime/data/tfrecords/train_18.tfrec s3://visiomel/page_3/train_18.tfrec\n",
      "cp s3://visiomel/originals/rmumaivg.tif rmumaivg.tif\n"
     ]
    },
    {
     "name": "stderr",
     "output_type": "stream",
     "text": [
      "2023-04-09 04:26:12.142 | INFO     | src.tfrecord:main:112 - Creating record 19\n"
     ]
    },
    {
     "name": "stdout",
     "output_type": "stream",
     "text": [
      "cp /home/broug/Desktop/visiomel-melanoma-runtime/data/tfrecords/train_18.tfrec s3://visiomel/page_3/train_18.tfrec\n",
      "cp s3://visiomel/originals/dd4byepr.tif dd4byepr.tif\n",
      "cp /home/broug/Desktop/visiomel-melanoma-runtime/data/tfrecords/train_19.tfrec s3://visiomel/page_3/train_19.tfrec\n",
      "cp s3://visiomel/originals/b9nuvd5p.tif b9nuvd5p.tif\n",
      "cp /home/broug/Desktop/visiomel-melanoma-runtime/data/tfrecords/train_19.tfrec s3://visiomel/page_3/train_19.tfrec\n",
      "cp s3://visiomel/originals/f1051qle.tif f1051qle.tif\n",
      "cp /home/broug/Desktop/visiomel-melanoma-runtime/data/tfrecords/train_19.tfrec s3://visiomel/page_3/train_19.tfrec\n",
      "cp s3://visiomel/originals/0xqvhhhv.tif 0xqvhhhv.tif\n"
     ]
    },
    {
     "name": "stderr",
     "output_type": "stream",
     "text": [
      "2023-04-09 04:26:49.811 | INFO     | src.tfrecord:main:112 - Creating record 20\n"
     ]
    },
    {
     "name": "stdout",
     "output_type": "stream",
     "text": [
      "cp /home/broug/Desktop/visiomel-melanoma-runtime/data/tfrecords/train_19.tfrec s3://visiomel/page_3/train_19.tfrec\n",
      "cp s3://visiomel/originals/gtq0i0j5.tif gtq0i0j5.tif\n",
      "cp /home/broug/Desktop/visiomel-melanoma-runtime/data/tfrecords/train_20.tfrec s3://visiomel/page_3/train_20.tfrec\n",
      "cp s3://visiomel/originals/e6l2m8fr.tif e6l2m8fr.tif\n",
      "cp /home/broug/Desktop/visiomel-melanoma-runtime/data/tfrecords/train_20.tfrec s3://visiomel/page_3/train_20.tfrec\n",
      "cp s3://visiomel/originals/qmle7cjk.tif qmle7cjk.tif\n",
      "cp /home/broug/Desktop/visiomel-melanoma-runtime/data/tfrecords/train_20.tfrec s3://visiomel/page_3/train_20.tfrec\n",
      "cp s3://visiomel/originals/6j975z2c.tif 6j975z2c.tif\n"
     ]
    },
    {
     "name": "stderr",
     "output_type": "stream",
     "text": [
      "2023-04-09 04:27:25.674 | INFO     | src.tfrecord:main:112 - Creating record 21\n"
     ]
    },
    {
     "name": "stdout",
     "output_type": "stream",
     "text": [
      "cp /home/broug/Desktop/visiomel-melanoma-runtime/data/tfrecords/train_20.tfrec s3://visiomel/page_3/train_20.tfrec\n",
      "cp s3://visiomel/originals/sgas6ac0.tif sgas6ac0.tif\n",
      "cp /home/broug/Desktop/visiomel-melanoma-runtime/data/tfrecords/train_21.tfrec s3://visiomel/page_3/train_21.tfrec\n",
      "cp s3://visiomel/originals/n871w7yx.tif n871w7yx.tif\n",
      "cp /home/broug/Desktop/visiomel-melanoma-runtime/data/tfrecords/train_21.tfrec s3://visiomel/page_3/train_21.tfrec\n",
      "cp s3://visiomel/originals/paa5g4er.tif paa5g4er.tif\n",
      "cp /home/broug/Desktop/visiomel-melanoma-runtime/data/tfrecords/train_21.tfrec s3://visiomel/page_3/train_21.tfrec\n",
      "cp s3://visiomel/originals/u40jq4tz.tif u40jq4tz.tif\n"
     ]
    },
    {
     "name": "stderr",
     "output_type": "stream",
     "text": [
      "2023-04-09 04:28:07.004 | INFO     | src.tfrecord:main:112 - Creating record 22\n"
     ]
    },
    {
     "name": "stdout",
     "output_type": "stream",
     "text": [
      "cp /home/broug/Desktop/visiomel-melanoma-runtime/data/tfrecords/train_21.tfrec s3://visiomel/page_3/train_21.tfrec\n",
      "cp s3://visiomel/originals/qoiq5h7l.tif qoiq5h7l.tif\n",
      "cp /home/broug/Desktop/visiomel-melanoma-runtime/data/tfrecords/train_22.tfrec s3://visiomel/page_3/train_22.tfrec\n",
      "cp s3://visiomel/originals/gnbpgv8q.tif gnbpgv8q.tif\n",
      "cp /home/broug/Desktop/visiomel-melanoma-runtime/data/tfrecords/train_22.tfrec s3://visiomel/page_3/train_22.tfrec\n",
      "cp s3://visiomel/originals/ewxekixx.tif ewxekixx.tif\n",
      "cp /home/broug/Desktop/visiomel-melanoma-runtime/data/tfrecords/train_22.tfrec s3://visiomel/page_3/train_22.tfrec\n",
      "cp s3://visiomel/originals/pea8n5n1.tif pea8n5n1.tif\n"
     ]
    },
    {
     "name": "stderr",
     "output_type": "stream",
     "text": [
      "2023-04-09 04:29:01.249 | INFO     | src.tfrecord:main:112 - Creating record 23\n"
     ]
    },
    {
     "name": "stdout",
     "output_type": "stream",
     "text": [
      "cp /home/broug/Desktop/visiomel-melanoma-runtime/data/tfrecords/train_22.tfrec s3://visiomel/page_3/train_22.tfrec\n",
      "cp s3://visiomel/originals/vp0m7lg2.tif vp0m7lg2.tif\n",
      "cp /home/broug/Desktop/visiomel-melanoma-runtime/data/tfrecords/train_23.tfrec s3://visiomel/page_3/train_23.tfrec\n",
      "cp s3://visiomel/originals/a4giay3t.tif a4giay3t.tif\n",
      "cp /home/broug/Desktop/visiomel-melanoma-runtime/data/tfrecords/train_23.tfrec s3://visiomel/page_3/train_23.tfrec\n",
      "cp s3://visiomel/originals/2b1tip4m.tif 2b1tip4m.tif\n"
     ]
    },
    {
     "name": "stderr",
     "output_type": "stream",
     "text": [
      "2023-04-09 04:29:29.109 | INFO     | src.tfrecord:main:132 - Corrupt download: 2b1tip4m.tif in local\n"
     ]
    },
    {
     "name": "stdout",
     "output_type": "stream",
     "text": [
      "cp s3://drivendata-competition-visiomel-public-us/images/2b1tip4m.tif 2b1tip4m.tif\n",
      "cp /home/broug/Desktop/visiomel-melanoma-runtime/data/tfrecords/train_23.tfrec s3://visiomel/page_3/train_23.tfrec\n",
      "cp s3://visiomel/originals/jdf0aac8.tif jdf0aac8.tif\n"
     ]
    },
    {
     "name": "stderr",
     "output_type": "stream",
     "text": [
      "2023-04-09 04:29:37.712 | INFO     | src.tfrecord:main:112 - Creating record 24\n"
     ]
    },
    {
     "name": "stdout",
     "output_type": "stream",
     "text": [
      "cp /home/broug/Desktop/visiomel-melanoma-runtime/data/tfrecords/train_23.tfrec s3://visiomel/page_3/train_23.tfrec\n",
      "cp s3://visiomel/originals/6qcd8mjb.tif 6qcd8mjb.tif\n",
      "cp /home/broug/Desktop/visiomel-melanoma-runtime/data/tfrecords/train_24.tfrec s3://visiomel/page_3/train_24.tfrec\n",
      "cp s3://visiomel/originals/ah7hcun5.tif ah7hcun5.tif\n",
      "cp /home/broug/Desktop/visiomel-melanoma-runtime/data/tfrecords/train_24.tfrec s3://visiomel/page_3/train_24.tfrec\n",
      "cp s3://visiomel/originals/mlibso49.tif mlibso49.tif\n",
      "cp /home/broug/Desktop/visiomel-melanoma-runtime/data/tfrecords/train_24.tfrec s3://visiomel/page_3/train_24.tfrec\n",
      "cp s3://visiomel/originals/t013dhcf.tif t013dhcf.tif\n"
     ]
    },
    {
     "name": "stderr",
     "output_type": "stream",
     "text": [
      "2023-04-09 04:30:31.655 | INFO     | src.tfrecord:main:112 - Creating record 25\n"
     ]
    },
    {
     "name": "stdout",
     "output_type": "stream",
     "text": [
      "cp /home/broug/Desktop/visiomel-melanoma-runtime/data/tfrecords/train_24.tfrec s3://visiomel/page_3/train_24.tfrec\n",
      "cp s3://visiomel/originals/4wflvl5k.tif 4wflvl5k.tif\n",
      "cp /home/broug/Desktop/visiomel-melanoma-runtime/data/tfrecords/train_25.tfrec s3://visiomel/page_3/train_25.tfrec\n",
      "cp s3://visiomel/originals/49crwssd.tif 49crwssd.tif\n",
      "cp /home/broug/Desktop/visiomel-melanoma-runtime/data/tfrecords/train_25.tfrec s3://visiomel/page_3/train_25.tfrec\n",
      "cp s3://visiomel/originals/0by07vj3.tif 0by07vj3.tif\n",
      "cp /home/broug/Desktop/visiomel-melanoma-runtime/data/tfrecords/train_25.tfrec s3://visiomel/page_3/train_25.tfrec\n",
      "cp s3://visiomel/originals/d03vi4j1.tif d03vi4j1.tif\n"
     ]
    },
    {
     "name": "stderr",
     "output_type": "stream",
     "text": [
      "2023-04-09 04:31:01.144 | INFO     | src.tfrecord:main:112 - Creating record 26\n"
     ]
    },
    {
     "name": "stdout",
     "output_type": "stream",
     "text": [
      "cp /home/broug/Desktop/visiomel-melanoma-runtime/data/tfrecords/train_25.tfrec s3://visiomel/page_3/train_25.tfrec\n",
      "cp s3://visiomel/originals/6ohqtmn2.tif 6ohqtmn2.tif\n",
      "cp /home/broug/Desktop/visiomel-melanoma-runtime/data/tfrecords/train_26.tfrec s3://visiomel/page_3/train_26.tfrec\n",
      "cp s3://visiomel/originals/wgt510u4.tif wgt510u4.tif\n",
      "cp /home/broug/Desktop/visiomel-melanoma-runtime/data/tfrecords/train_26.tfrec s3://visiomel/page_3/train_26.tfrec\n",
      "cp s3://visiomel/originals/bt92a0zo.tif bt92a0zo.tif\n",
      "cp /home/broug/Desktop/visiomel-melanoma-runtime/data/tfrecords/train_26.tfrec s3://visiomel/page_3/train_26.tfrec\n",
      "cp s3://visiomel/originals/49fwdpmu.tif 49fwdpmu.tif\n"
     ]
    },
    {
     "name": "stderr",
     "output_type": "stream",
     "text": [
      "2023-04-09 04:31:46.368 | INFO     | src.tfrecord:main:112 - Creating record 27\n"
     ]
    },
    {
     "name": "stdout",
     "output_type": "stream",
     "text": [
      "cp /home/broug/Desktop/visiomel-melanoma-runtime/data/tfrecords/train_26.tfrec s3://visiomel/page_3/train_26.tfrec\n",
      "cp s3://visiomel/originals/nfmvgjc6.tif nfmvgjc6.tif\n",
      "cp /home/broug/Desktop/visiomel-melanoma-runtime/data/tfrecords/train_27.tfrec s3://visiomel/page_3/train_27.tfrec\n",
      "cp s3://visiomel/originals/l7qxiwwx.tif l7qxiwwx.tif\n",
      "cp /home/broug/Desktop/visiomel-melanoma-runtime/data/tfrecords/train_27.tfrec s3://visiomel/page_3/train_27.tfrec\n",
      "cp s3://visiomel/originals/5bpd8r2u.tif 5bpd8r2u.tif\n"
     ]
    },
    {
     "name": "stderr",
     "output_type": "stream",
     "text": [
      "2023-04-09 04:32:11.148 | INFO     | src.tfrecord:main:132 - Corrupt download: 5bpd8r2u.tif in local\n"
     ]
    },
    {
     "name": "stdout",
     "output_type": "stream",
     "text": [
      "cp s3://drivendata-competition-visiomel-public-us/images/5bpd8r2u.tif 5bpd8r2u.tif\n",
      "cp /home/broug/Desktop/visiomel-melanoma-runtime/data/tfrecords/train_27.tfrec s3://visiomel/page_3/train_27.tfrec\n",
      "cp s3://visiomel/originals/bzjqvu0d.tif bzjqvu0d.tif\n"
     ]
    },
    {
     "name": "stderr",
     "output_type": "stream",
     "text": [
      "2023-04-09 04:32:37.806 | INFO     | src.tfrecord:main:112 - Creating record 28\n"
     ]
    },
    {
     "name": "stdout",
     "output_type": "stream",
     "text": [
      "cp /home/broug/Desktop/visiomel-melanoma-runtime/data/tfrecords/train_27.tfrec s3://visiomel/page_3/train_27.tfrec\n",
      "cp s3://visiomel/originals/83f1yvw8.tif 83f1yvw8.tif\n",
      "cp /home/broug/Desktop/visiomel-melanoma-runtime/data/tfrecords/train_28.tfrec s3://visiomel/page_3/train_28.tfrec\n",
      "cp s3://visiomel/originals/94c4bcxq.tif 94c4bcxq.tif\n",
      "cp /home/broug/Desktop/visiomel-melanoma-runtime/data/tfrecords/train_28.tfrec s3://visiomel/page_3/train_28.tfrec\n",
      "cp s3://visiomel/originals/wlgws9gl.tif wlgws9gl.tif\n",
      "cp /home/broug/Desktop/visiomel-melanoma-runtime/data/tfrecords/train_28.tfrec s3://visiomel/page_3/train_28.tfrec\n",
      "cp s3://visiomel/originals/btlrv95d.tif btlrv95d.tif\n"
     ]
    },
    {
     "name": "stderr",
     "output_type": "stream",
     "text": [
      "2023-04-09 04:33:28.829 | INFO     | src.tfrecord:main:112 - Creating record 29\n"
     ]
    },
    {
     "name": "stdout",
     "output_type": "stream",
     "text": [
      "cp /home/broug/Desktop/visiomel-melanoma-runtime/data/tfrecords/train_28.tfrec s3://visiomel/page_3/train_28.tfrec\n",
      "cp s3://visiomel/originals/044bkxsh.tif 044bkxsh.tif\n",
      "cp /home/broug/Desktop/visiomel-melanoma-runtime/data/tfrecords/train_29.tfrec s3://visiomel/page_3/train_29.tfrec\n",
      "cp s3://visiomel/originals/2akjssw2.tif 2akjssw2.tif\n",
      "cp /home/broug/Desktop/visiomel-melanoma-runtime/data/tfrecords/train_29.tfrec s3://visiomel/page_3/train_29.tfrec\n",
      "cp s3://visiomel/originals/mhcbldm3.tif mhcbldm3.tif\n",
      "cp /home/broug/Desktop/visiomel-melanoma-runtime/data/tfrecords/train_29.tfrec s3://visiomel/page_3/train_29.tfrec\n",
      "cp s3://visiomel/originals/2g3h8t38.tif 2g3h8t38.tif\n"
     ]
    },
    {
     "name": "stderr",
     "output_type": "stream",
     "text": [
      "2023-04-09 04:34:02.038 | INFO     | src.tfrecord:main:112 - Creating record 30\n"
     ]
    },
    {
     "name": "stdout",
     "output_type": "stream",
     "text": [
      "cp /home/broug/Desktop/visiomel-melanoma-runtime/data/tfrecords/train_29.tfrec s3://visiomel/page_3/train_29.tfrec\n",
      "cp s3://visiomel/originals/8xyq2p5x.tif 8xyq2p5x.tif\n",
      "cp /home/broug/Desktop/visiomel-melanoma-runtime/data/tfrecords/train_30.tfrec s3://visiomel/page_3/train_30.tfrec\n",
      "cp s3://visiomel/originals/9yf0nfcs.tif 9yf0nfcs.tif\n",
      "cp /home/broug/Desktop/visiomel-melanoma-runtime/data/tfrecords/train_30.tfrec s3://visiomel/page_3/train_30.tfrec\n",
      "cp s3://visiomel/originals/6x88xj2g.tif 6x88xj2g.tif\n",
      "cp /home/broug/Desktop/visiomel-melanoma-runtime/data/tfrecords/train_30.tfrec s3://visiomel/page_3/train_30.tfrec\n",
      "cp s3://visiomel/originals/a03roo37.tif a03roo37.tif\n"
     ]
    },
    {
     "name": "stderr",
     "output_type": "stream",
     "text": [
      "2023-04-09 04:35:26.908 | INFO     | src.tfrecord:main:112 - Creating record 31\n"
     ]
    },
    {
     "name": "stdout",
     "output_type": "stream",
     "text": [
      "cp /home/broug/Desktop/visiomel-melanoma-runtime/data/tfrecords/train_30.tfrec s3://visiomel/page_3/train_30.tfrec\n",
      "cp s3://visiomel/originals/0smqwtnl.tif 0smqwtnl.tif\n",
      "cp /home/broug/Desktop/visiomel-melanoma-runtime/data/tfrecords/train_31.tfrec s3://visiomel/page_3/train_31.tfrec\n",
      "cp s3://visiomel/originals/1fzfhtcc.tif 1fzfhtcc.tif\n",
      "cp /home/broug/Desktop/visiomel-melanoma-runtime/data/tfrecords/train_31.tfrec s3://visiomel/page_3/train_31.tfrec\n",
      "cp s3://visiomel/originals/ec9dthhu.tif ec9dthhu.tif\n",
      "cp /home/broug/Desktop/visiomel-melanoma-runtime/data/tfrecords/train_31.tfrec s3://visiomel/page_3/train_31.tfrec\n",
      "cp s3://visiomel/originals/o2lzwfyl.tif o2lzwfyl.tif\n"
     ]
    },
    {
     "name": "stderr",
     "output_type": "stream",
     "text": [
      "2023-04-09 04:36:03.793 | INFO     | src.tfrecord:main:112 - Creating record 32\n"
     ]
    },
    {
     "name": "stdout",
     "output_type": "stream",
     "text": [
      "cp /home/broug/Desktop/visiomel-melanoma-runtime/data/tfrecords/train_31.tfrec s3://visiomel/page_3/train_31.tfrec\n",
      "cp s3://visiomel/originals/xhhwgkre.tif xhhwgkre.tif\n",
      "cp /home/broug/Desktop/visiomel-melanoma-runtime/data/tfrecords/train_32.tfrec s3://visiomel/page_3/train_32.tfrec\n",
      "cp s3://visiomel/originals/d08etf21.tif d08etf21.tif\n",
      "cp /home/broug/Desktop/visiomel-melanoma-runtime/data/tfrecords/train_32.tfrec s3://visiomel/page_3/train_32.tfrec\n",
      "cp s3://visiomel/originals/qotuwrho.tif qotuwrho.tif\n",
      "cp /home/broug/Desktop/visiomel-melanoma-runtime/data/tfrecords/train_32.tfrec s3://visiomel/page_3/train_32.tfrec\n",
      "cp s3://visiomel/originals/x8xcg1v4.tif x8xcg1v4.tif\n"
     ]
    },
    {
     "name": "stderr",
     "output_type": "stream",
     "text": [
      "2023-04-09 04:37:07.723 | INFO     | src.tfrecord:main:112 - Creating record 33\n"
     ]
    },
    {
     "name": "stdout",
     "output_type": "stream",
     "text": [
      "cp /home/broug/Desktop/visiomel-melanoma-runtime/data/tfrecords/train_32.tfrec s3://visiomel/page_3/train_32.tfrec\n",
      "cp s3://visiomel/originals/w7kbkyh6.tif w7kbkyh6.tif\n",
      "cp /home/broug/Desktop/visiomel-melanoma-runtime/data/tfrecords/train_33.tfrec s3://visiomel/page_3/train_33.tfrec\n",
      "cp s3://visiomel/originals/onigflj2.tif onigflj2.tif\n",
      "cp /home/broug/Desktop/visiomel-melanoma-runtime/data/tfrecords/train_33.tfrec s3://visiomel/page_3/train_33.tfrec\n",
      "cp s3://visiomel/originals/e9enuro3.tif e9enuro3.tif\n",
      "cp /home/broug/Desktop/visiomel-melanoma-runtime/data/tfrecords/train_33.tfrec s3://visiomel/page_3/train_33.tfrec\n",
      "cp s3://visiomel/originals/4ywdzb5f.tif 4ywdzb5f.tif\n"
     ]
    },
    {
     "name": "stderr",
     "output_type": "stream",
     "text": [
      "2023-04-09 04:37:48.234 | INFO     | src.tfrecord:main:112 - Creating record 34\n"
     ]
    },
    {
     "name": "stdout",
     "output_type": "stream",
     "text": [
      "cp /home/broug/Desktop/visiomel-melanoma-runtime/data/tfrecords/train_33.tfrec s3://visiomel/page_3/train_33.tfrec\n",
      "cp s3://visiomel/originals/nopqzfin.tif nopqzfin.tif\n",
      "cp /home/broug/Desktop/visiomel-melanoma-runtime/data/tfrecords/train_34.tfrec s3://visiomel/page_3/train_34.tfrec\n",
      "cp s3://visiomel/originals/e3xwx1iz.tif e3xwx1iz.tif\n",
      "cp /home/broug/Desktop/visiomel-melanoma-runtime/data/tfrecords/train_34.tfrec s3://visiomel/page_3/train_34.tfrec\n",
      "cp s3://visiomel/originals/unfx3dqn.tif unfx3dqn.tif\n",
      "cp /home/broug/Desktop/visiomel-melanoma-runtime/data/tfrecords/train_34.tfrec s3://visiomel/page_3/train_34.tfrec\n",
      "cp s3://visiomel/originals/xfeitcky.tif xfeitcky.tif\n"
     ]
    },
    {
     "name": "stderr",
     "output_type": "stream",
     "text": [
      "2023-04-09 04:38:45.626 | INFO     | src.tfrecord:main:112 - Creating record 35\n"
     ]
    },
    {
     "name": "stdout",
     "output_type": "stream",
     "text": [
      "cp /home/broug/Desktop/visiomel-melanoma-runtime/data/tfrecords/train_34.tfrec s3://visiomel/page_3/train_34.tfrec\n",
      "cp s3://visiomel/originals/33pcatp8.tif 33pcatp8.tif\n",
      "cp /home/broug/Desktop/visiomel-melanoma-runtime/data/tfrecords/train_35.tfrec s3://visiomel/page_3/train_35.tfrec\n",
      "cp s3://visiomel/originals/8bt9si2a.tif 8bt9si2a.tif\n",
      "cp /home/broug/Desktop/visiomel-melanoma-runtime/data/tfrecords/train_35.tfrec s3://visiomel/page_3/train_35.tfrec\n",
      "cp s3://visiomel/originals/xgrxhsxv.tif xgrxhsxv.tif\n",
      "cp /home/broug/Desktop/visiomel-melanoma-runtime/data/tfrecords/train_35.tfrec s3://visiomel/page_3/train_35.tfrec\n",
      "cp s3://visiomel/originals/fuai8ziq.tif fuai8ziq.tif\n"
     ]
    },
    {
     "name": "stderr",
     "output_type": "stream",
     "text": [
      "2023-04-09 04:39:23.096 | INFO     | src.tfrecord:main:112 - Creating record 36\n"
     ]
    },
    {
     "name": "stdout",
     "output_type": "stream",
     "text": [
      "cp /home/broug/Desktop/visiomel-melanoma-runtime/data/tfrecords/train_35.tfrec s3://visiomel/page_3/train_35.tfrec\n",
      "cp s3://visiomel/originals/hqe4pac8.tif hqe4pac8.tif\n",
      "cp /home/broug/Desktop/visiomel-melanoma-runtime/data/tfrecords/train_36.tfrec s3://visiomel/page_3/train_36.tfrec\n",
      "cp s3://visiomel/originals/9fdq5wqk.tif 9fdq5wqk.tif\n",
      "cp /home/broug/Desktop/visiomel-melanoma-runtime/data/tfrecords/train_36.tfrec s3://visiomel/page_3/train_36.tfrec\n",
      "cp s3://visiomel/originals/6t1134lj.tif 6t1134lj.tif\n",
      "cp /home/broug/Desktop/visiomel-melanoma-runtime/data/tfrecords/train_36.tfrec s3://visiomel/page_3/train_36.tfrec\n",
      "cp s3://visiomel/originals/5vg96jxq.tif 5vg96jxq.tif\n"
     ]
    },
    {
     "name": "stderr",
     "output_type": "stream",
     "text": [
      "2023-04-09 04:40:15.799 | INFO     | src.tfrecord:main:112 - Creating record 37\n"
     ]
    },
    {
     "name": "stdout",
     "output_type": "stream",
     "text": [
      "cp /home/broug/Desktop/visiomel-melanoma-runtime/data/tfrecords/train_36.tfrec s3://visiomel/page_3/train_36.tfrec\n",
      "cp s3://visiomel/originals/9zl74rdz.tif 9zl74rdz.tif\n",
      "cp /home/broug/Desktop/visiomel-melanoma-runtime/data/tfrecords/train_37.tfrec s3://visiomel/page_3/train_37.tfrec\n",
      "cp s3://visiomel/originals/jn4r8hdj.tif jn4r8hdj.tif\n",
      "cp /home/broug/Desktop/visiomel-melanoma-runtime/data/tfrecords/train_37.tfrec s3://visiomel/page_3/train_37.tfrec\n",
      "cp s3://visiomel/originals/ts34c9b5.tif ts34c9b5.tif\n",
      "cp /home/broug/Desktop/visiomel-melanoma-runtime/data/tfrecords/train_37.tfrec s3://visiomel/page_3/train_37.tfrec\n",
      "cp s3://visiomel/originals/x237rbgl.tif x237rbgl.tif\n"
     ]
    },
    {
     "name": "stderr",
     "output_type": "stream",
     "text": [
      "2023-04-09 04:41:00.870 | INFO     | src.tfrecord:main:112 - Creating record 38\n"
     ]
    },
    {
     "name": "stdout",
     "output_type": "stream",
     "text": [
      "cp /home/broug/Desktop/visiomel-melanoma-runtime/data/tfrecords/train_37.tfrec s3://visiomel/page_3/train_37.tfrec\n",
      "cp s3://visiomel/originals/6nhqx7vn.tif 6nhqx7vn.tif\n",
      "cp /home/broug/Desktop/visiomel-melanoma-runtime/data/tfrecords/train_38.tfrec s3://visiomel/page_3/train_38.tfrec\n",
      "cp s3://visiomel/originals/ub642c2t.tif ub642c2t.tif\n",
      "cp /home/broug/Desktop/visiomel-melanoma-runtime/data/tfrecords/train_38.tfrec s3://visiomel/page_3/train_38.tfrec\n",
      "cp s3://visiomel/originals/bzfmf5v8.tif bzfmf5v8.tif\n",
      "cp /home/broug/Desktop/visiomel-melanoma-runtime/data/tfrecords/train_38.tfrec s3://visiomel/page_3/train_38.tfrec\n",
      "cp s3://visiomel/originals/j92cx3wu.tif j92cx3wu.tif\n"
     ]
    },
    {
     "name": "stderr",
     "output_type": "stream",
     "text": [
      "2023-04-09 04:41:48.902 | INFO     | src.tfrecord:main:112 - Creating record 39\n"
     ]
    },
    {
     "name": "stdout",
     "output_type": "stream",
     "text": [
      "cp /home/broug/Desktop/visiomel-melanoma-runtime/data/tfrecords/train_38.tfrec s3://visiomel/page_3/train_38.tfrec\n",
      "cp s3://visiomel/originals/vl1vkzfa.tif vl1vkzfa.tif\n",
      "cp /home/broug/Desktop/visiomel-melanoma-runtime/data/tfrecords/train_39.tfrec s3://visiomel/page_3/train_39.tfrec\n",
      "cp s3://visiomel/originals/hpa3wvvq.tif hpa3wvvq.tif\n",
      "cp /home/broug/Desktop/visiomel-melanoma-runtime/data/tfrecords/train_39.tfrec s3://visiomel/page_3/train_39.tfrec\n",
      "cp s3://visiomel/originals/8l601uzw.tif 8l601uzw.tif\n",
      "cp /home/broug/Desktop/visiomel-melanoma-runtime/data/tfrecords/train_39.tfrec s3://visiomel/page_3/train_39.tfrec\n",
      "cp s3://visiomel/originals/l09opsyx.tif l09opsyx.tif\n"
     ]
    },
    {
     "name": "stderr",
     "output_type": "stream",
     "text": [
      "2023-04-09 04:43:00.510 | INFO     | src.tfrecord:main:112 - Creating record 40\n"
     ]
    },
    {
     "name": "stdout",
     "output_type": "stream",
     "text": [
      "cp /home/broug/Desktop/visiomel-melanoma-runtime/data/tfrecords/train_39.tfrec s3://visiomel/page_3/train_39.tfrec\n",
      "cp s3://visiomel/originals/937hzumm.tif 937hzumm.tif\n",
      "cp /home/broug/Desktop/visiomel-melanoma-runtime/data/tfrecords/train_40.tfrec s3://visiomel/page_3/train_40.tfrec\n",
      "cp s3://visiomel/originals/0wklf5nq.tif 0wklf5nq.tif\n",
      "cp /home/broug/Desktop/visiomel-melanoma-runtime/data/tfrecords/train_40.tfrec s3://visiomel/page_3/train_40.tfrec\n",
      "cp s3://visiomel/originals/74vzjqff.tif 74vzjqff.tif\n",
      "cp /home/broug/Desktop/visiomel-melanoma-runtime/data/tfrecords/train_40.tfrec s3://visiomel/page_3/train_40.tfrec\n",
      "cp s3://visiomel/originals/c6rxg1xy.tif c6rxg1xy.tif\n"
     ]
    },
    {
     "name": "stderr",
     "output_type": "stream",
     "text": [
      "2023-04-09 04:43:50.993 | INFO     | src.tfrecord:main:112 - Creating record 41\n"
     ]
    },
    {
     "name": "stdout",
     "output_type": "stream",
     "text": [
      "cp /home/broug/Desktop/visiomel-melanoma-runtime/data/tfrecords/train_40.tfrec s3://visiomel/page_3/train_40.tfrec\n",
      "cp s3://visiomel/originals/wzfh3rdh.tif wzfh3rdh.tif\n",
      "cp /home/broug/Desktop/visiomel-melanoma-runtime/data/tfrecords/train_41.tfrec s3://visiomel/page_3/train_41.tfrec\n",
      "cp s3://visiomel/originals/yaz5q9fh.tif yaz5q9fh.tif\n",
      "cp /home/broug/Desktop/visiomel-melanoma-runtime/data/tfrecords/train_41.tfrec s3://visiomel/page_3/train_41.tfrec\n",
      "cp s3://visiomel/originals/1zlckgm1.tif 1zlckgm1.tif\n",
      "cp /home/broug/Desktop/visiomel-melanoma-runtime/data/tfrecords/train_41.tfrec s3://visiomel/page_3/train_41.tfrec\n",
      "cp s3://visiomel/originals/qbc0z2sl.tif qbc0z2sl.tif\n"
     ]
    },
    {
     "name": "stderr",
     "output_type": "stream",
     "text": [
      "2023-04-09 04:44:53.669 | INFO     | src.tfrecord:main:112 - Creating record 42\n"
     ]
    },
    {
     "name": "stdout",
     "output_type": "stream",
     "text": [
      "cp /home/broug/Desktop/visiomel-melanoma-runtime/data/tfrecords/train_41.tfrec s3://visiomel/page_3/train_41.tfrec\n",
      "cp s3://visiomel/originals/d17ke29y.tif d17ke29y.tif\n",
      "cp /home/broug/Desktop/visiomel-melanoma-runtime/data/tfrecords/train_42.tfrec s3://visiomel/page_3/train_42.tfrec\n",
      "cp s3://visiomel/originals/lfqhmwsu.tif lfqhmwsu.tif\n",
      "cp /home/broug/Desktop/visiomel-melanoma-runtime/data/tfrecords/train_42.tfrec s3://visiomel/page_3/train_42.tfrec\n",
      "cp s3://visiomel/originals/p0wgg7zd.tif p0wgg7zd.tif\n",
      "cp /home/broug/Desktop/visiomel-melanoma-runtime/data/tfrecords/train_42.tfrec s3://visiomel/page_3/train_42.tfrec\n",
      "cp s3://visiomel/originals/tmz5dqla.tif tmz5dqla.tif\n"
     ]
    },
    {
     "name": "stderr",
     "output_type": "stream",
     "text": [
      "2023-04-09 04:46:01.118 | INFO     | src.tfrecord:main:112 - Creating record 43\n"
     ]
    },
    {
     "name": "stdout",
     "output_type": "stream",
     "text": [
      "cp /home/broug/Desktop/visiomel-melanoma-runtime/data/tfrecords/train_42.tfrec s3://visiomel/page_3/train_42.tfrec\n",
      "cp s3://visiomel/originals/336l04ta.tif 336l04ta.tif\n",
      "cp /home/broug/Desktop/visiomel-melanoma-runtime/data/tfrecords/train_43.tfrec s3://visiomel/page_3/train_43.tfrec\n",
      "cp s3://visiomel/originals/d2sm29vh.tif d2sm29vh.tif\n",
      "cp /home/broug/Desktop/visiomel-melanoma-runtime/data/tfrecords/train_43.tfrec s3://visiomel/page_3/train_43.tfrec\n",
      "cp s3://visiomel/originals/lskw9n1g.tif lskw9n1g.tif\n",
      "cp /home/broug/Desktop/visiomel-melanoma-runtime/data/tfrecords/train_43.tfrec s3://visiomel/page_3/train_43.tfrec\n",
      "cp s3://visiomel/originals/apqlc0sm.tif apqlc0sm.tif\n"
     ]
    },
    {
     "name": "stderr",
     "output_type": "stream",
     "text": [
      "2023-04-09 04:47:02.078 | INFO     | src.tfrecord:main:112 - Creating record 44\n"
     ]
    },
    {
     "name": "stdout",
     "output_type": "stream",
     "text": [
      "cp /home/broug/Desktop/visiomel-melanoma-runtime/data/tfrecords/train_43.tfrec s3://visiomel/page_3/train_43.tfrec\n",
      "cp s3://visiomel/originals/gja8iu5z.tif gja8iu5z.tif\n",
      "cp /home/broug/Desktop/visiomel-melanoma-runtime/data/tfrecords/train_44.tfrec s3://visiomel/page_3/train_44.tfrec\n",
      "cp s3://visiomel/originals/li1va79n.tif li1va79n.tif\n",
      "cp /home/broug/Desktop/visiomel-melanoma-runtime/data/tfrecords/train_44.tfrec s3://visiomel/page_3/train_44.tfrec\n",
      "cp s3://visiomel/originals/u1idk5di.tif u1idk5di.tif\n",
      "cp /home/broug/Desktop/visiomel-melanoma-runtime/data/tfrecords/train_44.tfrec s3://visiomel/page_3/train_44.tfrec\n",
      "cp s3://visiomel/originals/el3rfza0.tif el3rfza0.tif\n"
     ]
    },
    {
     "name": "stderr",
     "output_type": "stream",
     "text": [
      "2023-04-09 04:47:52.995 | INFO     | src.tfrecord:main:112 - Creating record 45\n"
     ]
    },
    {
     "name": "stdout",
     "output_type": "stream",
     "text": [
      "cp /home/broug/Desktop/visiomel-melanoma-runtime/data/tfrecords/train_44.tfrec s3://visiomel/page_3/train_44.tfrec\n",
      "cp s3://visiomel/originals/w16kxcqb.tif w16kxcqb.tif\n",
      "cp /home/broug/Desktop/visiomel-melanoma-runtime/data/tfrecords/train_45.tfrec s3://visiomel/page_3/train_45.tfrec\n",
      "cp s3://visiomel/originals/retnlce0.tif retnlce0.tif\n",
      "cp /home/broug/Desktop/visiomel-melanoma-runtime/data/tfrecords/train_45.tfrec s3://visiomel/page_3/train_45.tfrec\n",
      "cp s3://visiomel/originals/ibesgi3x.tif ibesgi3x.tif\n",
      "cp /home/broug/Desktop/visiomel-melanoma-runtime/data/tfrecords/train_45.tfrec s3://visiomel/page_3/train_45.tfrec\n",
      "cp s3://visiomel/originals/sins3xy4.tif sins3xy4.tif\n"
     ]
    },
    {
     "name": "stderr",
     "output_type": "stream",
     "text": [
      "2023-04-09 04:48:52.018 | INFO     | src.tfrecord:main:112 - Creating record 46\n"
     ]
    },
    {
     "name": "stdout",
     "output_type": "stream",
     "text": [
      "cp /home/broug/Desktop/visiomel-melanoma-runtime/data/tfrecords/train_45.tfrec s3://visiomel/page_3/train_45.tfrec\n",
      "cp s3://visiomel/originals/psx2bw9l.tif psx2bw9l.tif\n",
      "cp /home/broug/Desktop/visiomel-melanoma-runtime/data/tfrecords/train_46.tfrec s3://visiomel/page_3/train_46.tfrec\n",
      "cp s3://visiomel/originals/0ezpjmed.tif 0ezpjmed.tif\n",
      "cp /home/broug/Desktop/visiomel-melanoma-runtime/data/tfrecords/train_46.tfrec s3://visiomel/page_3/train_46.tfrec\n",
      "cp s3://visiomel/originals/2tksmp3s.tif 2tksmp3s.tif\n",
      "cp /home/broug/Desktop/visiomel-melanoma-runtime/data/tfrecords/train_46.tfrec s3://visiomel/page_3/train_46.tfrec\n",
      "cp s3://visiomel/originals/9kdswl4l.tif 9kdswl4l.tif\n"
     ]
    },
    {
     "name": "stderr",
     "output_type": "stream",
     "text": [
      "2023-04-09 04:49:35.223 | INFO     | src.tfrecord:main:112 - Creating record 47\n"
     ]
    },
    {
     "name": "stdout",
     "output_type": "stream",
     "text": [
      "cp /home/broug/Desktop/visiomel-melanoma-runtime/data/tfrecords/train_46.tfrec s3://visiomel/page_3/train_46.tfrec\n",
      "cp s3://visiomel/originals/g1vjma1g.tif g1vjma1g.tif\n",
      "cp /home/broug/Desktop/visiomel-melanoma-runtime/data/tfrecords/train_47.tfrec s3://visiomel/page_3/train_47.tfrec\n",
      "cp s3://visiomel/originals/esvqowk9.tif esvqowk9.tif\n",
      "cp /home/broug/Desktop/visiomel-melanoma-runtime/data/tfrecords/train_47.tfrec s3://visiomel/page_3/train_47.tfrec\n",
      "cp s3://visiomel/originals/l86otqpo.tif l86otqpo.tif\n",
      "cp /home/broug/Desktop/visiomel-melanoma-runtime/data/tfrecords/train_47.tfrec s3://visiomel/page_3/train_47.tfrec\n",
      "cp s3://visiomel/originals/1ttpv0mc.tif 1ttpv0mc.tif\n"
     ]
    },
    {
     "name": "stderr",
     "output_type": "stream",
     "text": [
      "2023-04-09 04:50:18.759 | INFO     | src.tfrecord:main:112 - Creating record 48\n"
     ]
    },
    {
     "name": "stdout",
     "output_type": "stream",
     "text": [
      "cp /home/broug/Desktop/visiomel-melanoma-runtime/data/tfrecords/train_47.tfrec s3://visiomel/page_3/train_47.tfrec\n",
      "cp s3://visiomel/originals/qivj9ay9.tif qivj9ay9.tif\n",
      "cp /home/broug/Desktop/visiomel-melanoma-runtime/data/tfrecords/train_48.tfrec s3://visiomel/page_3/train_48.tfrec\n",
      "cp s3://visiomel/originals/t21fqqgv.tif t21fqqgv.tif\n",
      "cp /home/broug/Desktop/visiomel-melanoma-runtime/data/tfrecords/train_48.tfrec s3://visiomel/page_3/train_48.tfrec\n",
      "cp s3://visiomel/originals/3209qwdq.tif 3209qwdq.tif\n",
      "cp /home/broug/Desktop/visiomel-melanoma-runtime/data/tfrecords/train_48.tfrec s3://visiomel/page_3/train_48.tfrec\n",
      "cp s3://visiomel/originals/smln7egs.tif smln7egs.tif\n"
     ]
    },
    {
     "name": "stderr",
     "output_type": "stream",
     "text": [
      "2023-04-09 04:51:05.303 | INFO     | src.tfrecord:main:112 - Creating record 49\n"
     ]
    },
    {
     "name": "stdout",
     "output_type": "stream",
     "text": [
      "cp /home/broug/Desktop/visiomel-melanoma-runtime/data/tfrecords/train_48.tfrec s3://visiomel/page_3/train_48.tfrec\n",
      "cp s3://visiomel/originals/jkbog4kc.tif jkbog4kc.tif\n",
      "cp /home/broug/Desktop/visiomel-melanoma-runtime/data/tfrecords/train_49.tfrec s3://visiomel/page_3/train_49.tfrec\n",
      "cp s3://visiomel/originals/tyzfsbpp.tif tyzfsbpp.tif\n",
      "cp /home/broug/Desktop/visiomel-melanoma-runtime/data/tfrecords/train_49.tfrec s3://visiomel/page_3/train_49.tfrec\n",
      "cp s3://visiomel/originals/xa2johpx.tif xa2johpx.tif\n",
      "cp /home/broug/Desktop/visiomel-melanoma-runtime/data/tfrecords/train_49.tfrec s3://visiomel/page_3/train_49.tfrec\n",
      "cp s3://visiomel/originals/i17q9yds.tif i17q9yds.tif\n"
     ]
    },
    {
     "name": "stderr",
     "output_type": "stream",
     "text": [
      "2023-04-09 04:52:16.847 | INFO     | src.tfrecord:main:112 - Creating record 50\n"
     ]
    },
    {
     "name": "stdout",
     "output_type": "stream",
     "text": [
      "cp /home/broug/Desktop/visiomel-melanoma-runtime/data/tfrecords/train_49.tfrec s3://visiomel/page_3/train_49.tfrec\n",
      "cp s3://visiomel/originals/y5gpqk88.tif y5gpqk88.tif\n",
      "cp /home/broug/Desktop/visiomel-melanoma-runtime/data/tfrecords/train_50.tfrec s3://visiomel/page_3/train_50.tfrec\n",
      "cp s3://visiomel/originals/jsma9u2d.tif jsma9u2d.tif\n",
      "cp /home/broug/Desktop/visiomel-melanoma-runtime/data/tfrecords/train_50.tfrec s3://visiomel/page_3/train_50.tfrec\n",
      "cp s3://visiomel/originals/kbe89s10.tif kbe89s10.tif\n",
      "cp /home/broug/Desktop/visiomel-melanoma-runtime/data/tfrecords/train_50.tfrec s3://visiomel/page_3/train_50.tfrec\n",
      "cp s3://visiomel/originals/9wie3jq1.tif 9wie3jq1.tif\n"
     ]
    },
    {
     "name": "stderr",
     "output_type": "stream",
     "text": [
      "2023-04-09 04:53:15.460 | INFO     | src.tfrecord:main:112 - Creating record 51\n"
     ]
    },
    {
     "name": "stdout",
     "output_type": "stream",
     "text": [
      "cp /home/broug/Desktop/visiomel-melanoma-runtime/data/tfrecords/train_50.tfrec s3://visiomel/page_3/train_50.tfrec\n",
      "cp s3://visiomel/originals/hsf9yh6e.tif hsf9yh6e.tif\n",
      "cp /home/broug/Desktop/visiomel-melanoma-runtime/data/tfrecords/train_51.tfrec s3://visiomel/page_3/train_51.tfrec\n",
      "cp s3://visiomel/originals/a0b6z7y6.tif a0b6z7y6.tif\n",
      "cp /home/broug/Desktop/visiomel-melanoma-runtime/data/tfrecords/train_51.tfrec s3://visiomel/page_3/train_51.tfrec\n",
      "cp s3://visiomel/originals/8c9bv7sx.tif 8c9bv7sx.tif\n",
      "cp /home/broug/Desktop/visiomel-melanoma-runtime/data/tfrecords/train_51.tfrec s3://visiomel/page_3/train_51.tfrec\n",
      "cp s3://visiomel/originals/5aoui3p3.tif 5aoui3p3.tif\n"
     ]
    },
    {
     "name": "stderr",
     "output_type": "stream",
     "text": [
      "2023-04-09 04:54:13.929 | INFO     | src.tfrecord:main:112 - Creating record 52\n"
     ]
    },
    {
     "name": "stdout",
     "output_type": "stream",
     "text": [
      "cp /home/broug/Desktop/visiomel-melanoma-runtime/data/tfrecords/train_51.tfrec s3://visiomel/page_3/train_51.tfrec\n",
      "cp s3://visiomel/originals/qf1escfc.tif qf1escfc.tif\n",
      "cp /home/broug/Desktop/visiomel-melanoma-runtime/data/tfrecords/train_52.tfrec s3://visiomel/page_3/train_52.tfrec\n",
      "cp s3://visiomel/originals/iaovenm4.tif iaovenm4.tif\n",
      "cp /home/broug/Desktop/visiomel-melanoma-runtime/data/tfrecords/train_52.tfrec s3://visiomel/page_3/train_52.tfrec\n",
      "cp s3://visiomel/originals/5ancwi8k.tif 5ancwi8k.tif\n",
      "cp /home/broug/Desktop/visiomel-melanoma-runtime/data/tfrecords/train_52.tfrec s3://visiomel/page_3/train_52.tfrec\n",
      "cp s3://visiomel/originals/w8oohrqb.tif w8oohrqb.tif\n"
     ]
    },
    {
     "name": "stderr",
     "output_type": "stream",
     "text": [
      "2023-04-09 04:55:07.810 | INFO     | src.tfrecord:main:112 - Creating record 53\n"
     ]
    },
    {
     "name": "stdout",
     "output_type": "stream",
     "text": [
      "cp /home/broug/Desktop/visiomel-melanoma-runtime/data/tfrecords/train_52.tfrec s3://visiomel/page_3/train_52.tfrec\n",
      "cp s3://visiomel/originals/1p27ropf.tif 1p27ropf.tif\n",
      "cp /home/broug/Desktop/visiomel-melanoma-runtime/data/tfrecords/train_53.tfrec s3://visiomel/page_3/train_53.tfrec\n",
      "cp s3://visiomel/originals/kikg2gp0.tif kikg2gp0.tif\n",
      "cp /home/broug/Desktop/visiomel-melanoma-runtime/data/tfrecords/train_53.tfrec s3://visiomel/page_3/train_53.tfrec\n",
      "cp s3://visiomel/originals/l5izz74y.tif l5izz74y.tif\n",
      "cp /home/broug/Desktop/visiomel-melanoma-runtime/data/tfrecords/train_53.tfrec s3://visiomel/page_3/train_53.tfrec\n",
      "cp s3://visiomel/originals/z5qdks0z.tif z5qdks0z.tif\n"
     ]
    },
    {
     "name": "stderr",
     "output_type": "stream",
     "text": [
      "2023-04-09 04:56:11.568 | INFO     | src.tfrecord:main:112 - Creating record 54\n"
     ]
    },
    {
     "name": "stdout",
     "output_type": "stream",
     "text": [
      "cp /home/broug/Desktop/visiomel-melanoma-runtime/data/tfrecords/train_53.tfrec s3://visiomel/page_3/train_53.tfrec\n",
      "cp s3://visiomel/originals/5syc04dh.tif 5syc04dh.tif\n",
      "cp /home/broug/Desktop/visiomel-melanoma-runtime/data/tfrecords/train_54.tfrec s3://visiomel/page_3/train_54.tfrec\n",
      "cp s3://visiomel/originals/pvmuz17g.tif pvmuz17g.tif\n",
      "cp /home/broug/Desktop/visiomel-melanoma-runtime/data/tfrecords/train_54.tfrec s3://visiomel/page_3/train_54.tfrec\n",
      "cp s3://visiomel/originals/wri87c3g.tif wri87c3g.tif\n",
      "cp /home/broug/Desktop/visiomel-melanoma-runtime/data/tfrecords/train_54.tfrec s3://visiomel/page_3/train_54.tfrec\n",
      "cp s3://visiomel/originals/ipdwczv8.tif ipdwczv8.tif\n"
     ]
    },
    {
     "name": "stderr",
     "output_type": "stream",
     "text": [
      "2023-04-09 04:57:06.838 | INFO     | src.tfrecord:main:112 - Creating record 55\n"
     ]
    },
    {
     "name": "stdout",
     "output_type": "stream",
     "text": [
      "cp /home/broug/Desktop/visiomel-melanoma-runtime/data/tfrecords/train_54.tfrec s3://visiomel/page_3/train_54.tfrec\n",
      "cp s3://visiomel/originals/sp14j73t.tif sp14j73t.tif\n",
      "cp /home/broug/Desktop/visiomel-melanoma-runtime/data/tfrecords/train_55.tfrec s3://visiomel/page_3/train_55.tfrec\n",
      "cp s3://visiomel/originals/70lpz87b.tif 70lpz87b.tif\n",
      "cp /home/broug/Desktop/visiomel-melanoma-runtime/data/tfrecords/train_55.tfrec s3://visiomel/page_3/train_55.tfrec\n",
      "cp s3://visiomel/originals/y15egr10.tif y15egr10.tif\n",
      "cp /home/broug/Desktop/visiomel-melanoma-runtime/data/tfrecords/train_55.tfrec s3://visiomel/page_3/train_55.tfrec\n",
      "cp s3://visiomel/originals/877ufg4c.tif 877ufg4c.tif\n"
     ]
    },
    {
     "name": "stderr",
     "output_type": "stream",
     "text": [
      "2023-04-09 04:58:05.124 | INFO     | src.tfrecord:main:112 - Creating record 56\n"
     ]
    },
    {
     "name": "stdout",
     "output_type": "stream",
     "text": [
      "cp /home/broug/Desktop/visiomel-melanoma-runtime/data/tfrecords/train_55.tfrec s3://visiomel/page_3/train_55.tfrec\n",
      "cp s3://visiomel/originals/tz9mnxkg.tif tz9mnxkg.tif\n",
      "cp /home/broug/Desktop/visiomel-melanoma-runtime/data/tfrecords/train_56.tfrec s3://visiomel/page_3/train_56.tfrec\n",
      "cp s3://visiomel/originals/7a42cec7.tif 7a42cec7.tif\n",
      "cp /home/broug/Desktop/visiomel-melanoma-runtime/data/tfrecords/train_56.tfrec s3://visiomel/page_3/train_56.tfrec\n",
      "cp s3://visiomel/originals/prfyjl6n.tif prfyjl6n.tif\n",
      "cp /home/broug/Desktop/visiomel-melanoma-runtime/data/tfrecords/train_56.tfrec s3://visiomel/page_3/train_56.tfrec\n",
      "cp s3://visiomel/originals/t1bsrqwq.tif t1bsrqwq.tif\n"
     ]
    },
    {
     "name": "stderr",
     "output_type": "stream",
     "text": [
      "2023-04-09 04:58:43.506 | INFO     | src.tfrecord:main:112 - Creating record 57\n"
     ]
    },
    {
     "name": "stdout",
     "output_type": "stream",
     "text": [
      "cp /home/broug/Desktop/visiomel-melanoma-runtime/data/tfrecords/train_56.tfrec s3://visiomel/page_3/train_56.tfrec\n",
      "cp s3://visiomel/originals/en9u6hly.tif en9u6hly.tif\n",
      "cp /home/broug/Desktop/visiomel-melanoma-runtime/data/tfrecords/train_57.tfrec s3://visiomel/page_3/train_57.tfrec\n",
      "cp s3://visiomel/originals/drpa7gue.tif drpa7gue.tif\n",
      "cp /home/broug/Desktop/visiomel-melanoma-runtime/data/tfrecords/train_57.tfrec s3://visiomel/page_3/train_57.tfrec\n",
      "cp s3://visiomel/originals/p32qwpub.tif p32qwpub.tif\n",
      "cp /home/broug/Desktop/visiomel-melanoma-runtime/data/tfrecords/train_57.tfrec s3://visiomel/page_3/train_57.tfrec\n",
      "cp s3://visiomel/originals/qeorocy2.tif qeorocy2.tif\n"
     ]
    },
    {
     "name": "stderr",
     "output_type": "stream",
     "text": [
      "2023-04-09 04:59:23.918 | INFO     | src.tfrecord:main:112 - Creating record 58\n"
     ]
    },
    {
     "name": "stdout",
     "output_type": "stream",
     "text": [
      "cp /home/broug/Desktop/visiomel-melanoma-runtime/data/tfrecords/train_57.tfrec s3://visiomel/page_3/train_57.tfrec\n",
      "cp s3://visiomel/originals/of6yyoqz.tif of6yyoqz.tif\n",
      "cp /home/broug/Desktop/visiomel-melanoma-runtime/data/tfrecords/train_58.tfrec s3://visiomel/page_3/train_58.tfrec\n",
      "cp s3://visiomel/originals/ejtwl7sk.tif ejtwl7sk.tif\n",
      "cp /home/broug/Desktop/visiomel-melanoma-runtime/data/tfrecords/train_58.tfrec s3://visiomel/page_3/train_58.tfrec\n",
      "cp s3://visiomel/originals/i7qwgbjo.tif i7qwgbjo.tif\n",
      "cp /home/broug/Desktop/visiomel-melanoma-runtime/data/tfrecords/train_58.tfrec s3://visiomel/page_3/train_58.tfrec\n",
      "cp s3://visiomel/originals/rnfr5uz4.tif rnfr5uz4.tif\n"
     ]
    },
    {
     "name": "stderr",
     "output_type": "stream",
     "text": [
      "2023-04-09 05:00:38.061 | INFO     | src.tfrecord:main:112 - Creating record 59\n"
     ]
    },
    {
     "name": "stdout",
     "output_type": "stream",
     "text": [
      "cp /home/broug/Desktop/visiomel-melanoma-runtime/data/tfrecords/train_58.tfrec s3://visiomel/page_3/train_58.tfrec\n",
      "cp s3://visiomel/originals/kp62v2di.tif kp62v2di.tif\n",
      "cp /home/broug/Desktop/visiomel-melanoma-runtime/data/tfrecords/train_59.tfrec s3://visiomel/page_3/train_59.tfrec\n",
      "cp s3://visiomel/originals/0oyvvk54.tif 0oyvvk54.tif\n",
      "cp /home/broug/Desktop/visiomel-melanoma-runtime/data/tfrecords/train_59.tfrec s3://visiomel/page_3/train_59.tfrec\n",
      "cp s3://visiomel/originals/amaej4tz.tif amaej4tz.tif\n",
      "cp /home/broug/Desktop/visiomel-melanoma-runtime/data/tfrecords/train_59.tfrec s3://visiomel/page_3/train_59.tfrec\n",
      "cp s3://visiomel/originals/463qw8dw.tif 463qw8dw.tif\n"
     ]
    },
    {
     "name": "stderr",
     "output_type": "stream",
     "text": [
      "2023-04-09 05:01:30.284 | INFO     | src.tfrecord:main:112 - Creating record 60\n"
     ]
    },
    {
     "name": "stdout",
     "output_type": "stream",
     "text": [
      "cp /home/broug/Desktop/visiomel-melanoma-runtime/data/tfrecords/train_59.tfrec s3://visiomel/page_3/train_59.tfrec\n",
      "cp s3://visiomel/originals/1zuwhryq.tif 1zuwhryq.tif\n",
      "cp /home/broug/Desktop/visiomel-melanoma-runtime/data/tfrecords/train_60.tfrec s3://visiomel/page_3/train_60.tfrec\n",
      "cp s3://visiomel/originals/c6hbt06d.tif c6hbt06d.tif\n",
      "cp /home/broug/Desktop/visiomel-melanoma-runtime/data/tfrecords/train_60.tfrec s3://visiomel/page_3/train_60.tfrec\n",
      "cp s3://visiomel/originals/j7ue6584.tif j7ue6584.tif\n",
      "cp /home/broug/Desktop/visiomel-melanoma-runtime/data/tfrecords/train_60.tfrec s3://visiomel/page_3/train_60.tfrec\n",
      "cp s3://visiomel/originals/btp9c9y2.tif btp9c9y2.tif\n"
     ]
    },
    {
     "name": "stderr",
     "output_type": "stream",
     "text": [
      "2023-04-09 05:02:11.217 | INFO     | src.tfrecord:main:112 - Creating record 61\n"
     ]
    },
    {
     "name": "stdout",
     "output_type": "stream",
     "text": [
      "cp /home/broug/Desktop/visiomel-melanoma-runtime/data/tfrecords/train_60.tfrec s3://visiomel/page_3/train_60.tfrec\n",
      "cp s3://visiomel/originals/vf2r2xjc.tif vf2r2xjc.tif\n",
      "cp /home/broug/Desktop/visiomel-melanoma-runtime/data/tfrecords/train_61.tfrec s3://visiomel/page_3/train_61.tfrec\n",
      "cp s3://visiomel/originals/k7cdb530.tif k7cdb530.tif\n",
      "cp /home/broug/Desktop/visiomel-melanoma-runtime/data/tfrecords/train_61.tfrec s3://visiomel/page_3/train_61.tfrec\n",
      "cp s3://visiomel/originals/w5rqbyw4.tif w5rqbyw4.tif\n",
      "cp /home/broug/Desktop/visiomel-melanoma-runtime/data/tfrecords/train_61.tfrec s3://visiomel/page_3/train_61.tfrec\n",
      "cp s3://visiomel/originals/xhj3rpk9.tif xhj3rpk9.tif\n"
     ]
    },
    {
     "name": "stderr",
     "output_type": "stream",
     "text": [
      "2023-04-09 05:03:10.400 | INFO     | src.tfrecord:main:112 - Creating record 62\n"
     ]
    },
    {
     "name": "stdout",
     "output_type": "stream",
     "text": [
      "cp /home/broug/Desktop/visiomel-melanoma-runtime/data/tfrecords/train_61.tfrec s3://visiomel/page_3/train_61.tfrec\n",
      "cp s3://visiomel/originals/7aaoaayu.tif 7aaoaayu.tif\n",
      "cp /home/broug/Desktop/visiomel-melanoma-runtime/data/tfrecords/train_62.tfrec s3://visiomel/page_3/train_62.tfrec\n",
      "cp s3://visiomel/originals/zy19gwc2.tif zy19gwc2.tif\n",
      "cp /home/broug/Desktop/visiomel-melanoma-runtime/data/tfrecords/train_62.tfrec s3://visiomel/page_3/train_62.tfrec\n",
      "cp s3://visiomel/originals/ecag4bhf.tif ecag4bhf.tif\n",
      "cp /home/broug/Desktop/visiomel-melanoma-runtime/data/tfrecords/train_62.tfrec s3://visiomel/page_3/train_62.tfrec\n",
      "cp s3://visiomel/originals/wy78km9x.tif wy78km9x.tif\n"
     ]
    },
    {
     "name": "stderr",
     "output_type": "stream",
     "text": [
      "2023-04-09 05:03:43.258 | INFO     | src.tfrecord:main:112 - Creating record 63\n"
     ]
    },
    {
     "name": "stdout",
     "output_type": "stream",
     "text": [
      "cp /home/broug/Desktop/visiomel-melanoma-runtime/data/tfrecords/train_62.tfrec s3://visiomel/page_3/train_62.tfrec\n",
      "cp s3://visiomel/originals/8bup5z8a.tif 8bup5z8a.tif\n",
      "cp /home/broug/Desktop/visiomel-melanoma-runtime/data/tfrecords/train_63.tfrec s3://visiomel/page_3/train_63.tfrec\n",
      "cp s3://visiomel/originals/m4l4hhop.tif m4l4hhop.tif\n",
      "cp /home/broug/Desktop/visiomel-melanoma-runtime/data/tfrecords/train_63.tfrec s3://visiomel/page_3/train_63.tfrec\n",
      "cp s3://visiomel/originals/amxphj4g.tif amxphj4g.tif\n",
      "cp /home/broug/Desktop/visiomel-melanoma-runtime/data/tfrecords/train_63.tfrec s3://visiomel/page_3/train_63.tfrec\n",
      "cp s3://visiomel/originals/e0kawi17.tif e0kawi17.tif\n"
     ]
    },
    {
     "name": "stderr",
     "output_type": "stream",
     "text": [
      "2023-04-09 05:04:33.699 | INFO     | src.tfrecord:main:112 - Creating record 64\n"
     ]
    },
    {
     "name": "stdout",
     "output_type": "stream",
     "text": [
      "cp /home/broug/Desktop/visiomel-melanoma-runtime/data/tfrecords/train_63.tfrec s3://visiomel/page_3/train_63.tfrec\n",
      "cp s3://visiomel/originals/qunnc3rq.tif qunnc3rq.tif\n",
      "cp /home/broug/Desktop/visiomel-melanoma-runtime/data/tfrecords/train_64.tfrec s3://visiomel/page_3/train_64.tfrec\n",
      "cp s3://visiomel/originals/lh41hhtv.tif lh41hhtv.tif\n",
      "cp /home/broug/Desktop/visiomel-melanoma-runtime/data/tfrecords/train_64.tfrec s3://visiomel/page_3/train_64.tfrec\n",
      "cp s3://visiomel/originals/6yxift92.tif 6yxift92.tif\n",
      "cp /home/broug/Desktop/visiomel-melanoma-runtime/data/tfrecords/train_64.tfrec s3://visiomel/page_3/train_64.tfrec\n",
      "cp s3://visiomel/originals/lqjp9c7j.tif lqjp9c7j.tif\n"
     ]
    },
    {
     "name": "stderr",
     "output_type": "stream",
     "text": [
      "2023-04-09 05:05:30.645 | INFO     | src.tfrecord:main:112 - Creating record 65\n"
     ]
    },
    {
     "name": "stdout",
     "output_type": "stream",
     "text": [
      "cp /home/broug/Desktop/visiomel-melanoma-runtime/data/tfrecords/train_64.tfrec s3://visiomel/page_3/train_64.tfrec\n",
      "cp s3://visiomel/originals/7ohxfx6m.tif 7ohxfx6m.tif\n",
      "cp /home/broug/Desktop/visiomel-melanoma-runtime/data/tfrecords/train_65.tfrec s3://visiomel/page_3/train_65.tfrec\n",
      "cp s3://visiomel/originals/52fzxh7h.tif 52fzxh7h.tif\n",
      "cp /home/broug/Desktop/visiomel-melanoma-runtime/data/tfrecords/train_65.tfrec s3://visiomel/page_3/train_65.tfrec\n",
      "cp s3://visiomel/originals/k4r4zy76.tif k4r4zy76.tif\n",
      "cp /home/broug/Desktop/visiomel-melanoma-runtime/data/tfrecords/train_65.tfrec s3://visiomel/page_3/train_65.tfrec\n",
      "cp s3://visiomel/originals/iwlwk1rv.tif iwlwk1rv.tif\n"
     ]
    },
    {
     "name": "stderr",
     "output_type": "stream",
     "text": [
      "2023-04-09 05:06:35.898 | INFO     | src.tfrecord:main:112 - Creating record 66\n"
     ]
    },
    {
     "name": "stdout",
     "output_type": "stream",
     "text": [
      "cp /home/broug/Desktop/visiomel-melanoma-runtime/data/tfrecords/train_65.tfrec s3://visiomel/page_3/train_65.tfrec\n",
      "cp s3://visiomel/originals/656hl2y8.tif 656hl2y8.tif\n",
      "cp /home/broug/Desktop/visiomel-melanoma-runtime/data/tfrecords/train_66.tfrec s3://visiomel/page_3/train_66.tfrec\n"
     ]
    }
   ],
   "source": [
    "make_tf.main()"
   ]
  },
  {
   "cell_type": "code",
   "execution_count": 16,
   "metadata": {},
   "outputs": [],
   "source": [
    "feats, files = make_tf.preprocess_feats_2_encode()"
   ]
  },
  {
   "cell_type": "code",
   "execution_count": 17,
   "metadata": {},
   "outputs": [
    {
     "data": {
      "text/html": [
       "<div>\n",
       "<style scoped>\n",
       "    .dataframe tbody tr th:only-of-type {\n",
       "        vertical-align: middle;\n",
       "    }\n",
       "\n",
       "    .dataframe tbody tr th {\n",
       "        vertical-align: top;\n",
       "    }\n",
       "\n",
       "    .dataframe thead th {\n",
       "        text-align: right;\n",
       "    }\n",
       "</style>\n",
       "<table border=\"1\" class=\"dataframe\">\n",
       "  <thead>\n",
       "    <tr style=\"text-align: right;\">\n",
       "      <th></th>\n",
       "      <th>age</th>\n",
       "      <th>sex</th>\n",
       "      <th>x0_YES</th>\n",
       "      <th>x0_nan</th>\n",
       "      <th>relapse</th>\n",
       "    </tr>\n",
       "  </thead>\n",
       "  <tbody>\n",
       "    <tr>\n",
       "      <th>0</th>\n",
       "      <td>32</td>\n",
       "      <td>1</td>\n",
       "      <td>1</td>\n",
       "      <td>0</td>\n",
       "      <td>0</td>\n",
       "    </tr>\n",
       "    <tr>\n",
       "      <th>1</th>\n",
       "      <td>46</td>\n",
       "      <td>0</td>\n",
       "      <td>0</td>\n",
       "      <td>0</td>\n",
       "      <td>0</td>\n",
       "    </tr>\n",
       "    <tr>\n",
       "      <th>2</th>\n",
       "      <td>64</td>\n",
       "      <td>1</td>\n",
       "      <td>0</td>\n",
       "      <td>0</td>\n",
       "      <td>0</td>\n",
       "    </tr>\n",
       "    <tr>\n",
       "      <th>3</th>\n",
       "      <td>62</td>\n",
       "      <td>1</td>\n",
       "      <td>0</td>\n",
       "      <td>1</td>\n",
       "      <td>0</td>\n",
       "    </tr>\n",
       "    <tr>\n",
       "      <th>4</th>\n",
       "      <td>90</td>\n",
       "      <td>1</td>\n",
       "      <td>0</td>\n",
       "      <td>0</td>\n",
       "      <td>0</td>\n",
       "    </tr>\n",
       "    <tr>\n",
       "      <th>...</th>\n",
       "      <td>...</td>\n",
       "      <td>...</td>\n",
       "      <td>...</td>\n",
       "      <td>...</td>\n",
       "      <td>...</td>\n",
       "    </tr>\n",
       "    <tr>\n",
       "      <th>1337</th>\n",
       "      <td>68</td>\n",
       "      <td>0</td>\n",
       "      <td>0</td>\n",
       "      <td>1</td>\n",
       "      <td>0</td>\n",
       "    </tr>\n",
       "    <tr>\n",
       "      <th>1338</th>\n",
       "      <td>66</td>\n",
       "      <td>0</td>\n",
       "      <td>0</td>\n",
       "      <td>1</td>\n",
       "      <td>0</td>\n",
       "    </tr>\n",
       "    <tr>\n",
       "      <th>1339</th>\n",
       "      <td>80</td>\n",
       "      <td>0</td>\n",
       "      <td>0</td>\n",
       "      <td>1</td>\n",
       "      <td>0</td>\n",
       "    </tr>\n",
       "    <tr>\n",
       "      <th>1340</th>\n",
       "      <td>42</td>\n",
       "      <td>1</td>\n",
       "      <td>0</td>\n",
       "      <td>1</td>\n",
       "      <td>0</td>\n",
       "    </tr>\n",
       "    <tr>\n",
       "      <th>1341</th>\n",
       "      <td>56</td>\n",
       "      <td>0</td>\n",
       "      <td>0</td>\n",
       "      <td>1</td>\n",
       "      <td>0</td>\n",
       "    </tr>\n",
       "  </tbody>\n",
       "</table>\n",
       "<p>1342 rows × 5 columns</p>\n",
       "</div>"
      ],
      "text/plain": [
       "      age  sex  x0_YES  x0_nan  relapse\n",
       "0      32    1       1       0        0\n",
       "1      46    0       0       0        0\n",
       "2      64    1       0       0        0\n",
       "3      62    1       0       1        0\n",
       "4      90    1       0       0        0\n",
       "...   ...  ...     ...     ...      ...\n",
       "1337   68    0       0       1        0\n",
       "1338   66    0       0       1        0\n",
       "1339   80    0       0       1        0\n",
       "1340   42    1       0       1        0\n",
       "1341   56    0       0       1        0\n",
       "\n",
       "[1342 rows x 5 columns]"
      ]
     },
     "execution_count": 17,
     "metadata": {},
     "output_type": "execute_result"
    }
   ],
   "source": [
    "feats"
   ]
  },
  {
   "cell_type": "code",
   "execution_count": 18,
   "metadata": {},
   "outputs": [
    {
     "name": "stdout",
     "output_type": "stream",
     "text": [
      "cp s3://drivendata-competition-visiomel-public-us/images/1u4lhlqb.tif 1u4lhlqb.tif\n"
     ]
    },
    {
     "data": {
      "text/plain": [
       "('3028450373', '747151312')"
      ]
     },
     "execution_count": 18,
     "metadata": {},
     "output_type": "execute_result"
    }
   ],
   "source": [
    "row = files.iloc[0]\n",
    "make_tf.dl_image(row['us_tif_url'], row['filename'])"
   ]
  },
  {
   "cell_type": "code",
   "execution_count": 19,
   "metadata": {},
   "outputs": [],
   "source": [
    "make_tf.verify_dl(row, 3028450373, 747151312)"
   ]
  },
  {
   "cell_type": "code",
   "execution_count": 20,
   "metadata": {},
   "outputs": [],
   "source": [
    "img, height, width = make_tf.load_image(row['filename'])"
   ]
  },
  {
   "cell_type": "code",
   "execution_count": 21,
   "metadata": {},
   "outputs": [],
   "source": [
    "feature = make_tf.create_example(img, feats.iloc[0], row, height, width)"
   ]
  },
  {
   "cell_type": "code",
   "execution_count": null,
   "metadata": {},
   "outputs": [],
   "source": []
  }
 ],
 "metadata": {
  "kernelspec": {
   "display_name": "viz",
   "language": "python",
   "name": "python3"
  },
  "language_info": {
   "codemirror_mode": {
    "name": "ipython",
    "version": 3
   },
   "file_extension": ".py",
   "mimetype": "text/x-python",
   "name": "python",
   "nbconvert_exporter": "python",
   "pygments_lexer": "ipython3",
   "version": "3.10.10"
  },
  "orig_nbformat": 4
 },
 "nbformat": 4,
 "nbformat_minor": 2
}
